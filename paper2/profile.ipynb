{
 "cells": [
  {
   "cell_type": "code",
   "execution_count": 1,
   "id": "533aeaec-8b85-4850-90a2-c1faccd0945c",
   "metadata": {},
   "outputs": [],
   "source": [
    "import numpy as np\n",
    "import matplotlib.pyplot as plt\n",
    "import posfai2 as my\n",
    "import time\n",
    "import scipy.sparse as sp"
   ]
  },
  {
   "cell_type": "code",
   "execution_count": 2,
   "id": "6933dbb4-0503-4752-b242-5e6b1521f108",
   "metadata": {},
   "outputs": [],
   "source": [
    "# Define model\n",
    "L=1000; alpha=4; n_order = 4; n_adj = 4; alphabet='ACGT';\n",
    "ohe_spec_str = my.get_ohe_spec_str(L, n_order=n_order, n_adj=n_adj)"
   ]
  },
  {
   "cell_type": "code",
   "execution_count": 3,
   "id": "b1965cf1-573f-4cc3-9d2a-87ba88fe9539",
   "metadata": {},
   "outputs": [
    {
     "data": {
      "text/plain": [
       "'TCTGCGTTACCATGCAATATATCGCAAGACGGCCACGTTTAAATGAACAGATTGGGGGCAAAGCAGGACTCTCGCGGTGTACCACAATAGTCCTGTGTGCGCATTAGTTAGGCAGAACAGTGGCTAGTTTGGGCCCTTGCTCCATATGTGGACAAGACAAGCAAATCACTTCGCAGTCCGTTGATAGTGAACACAGCCACTTGGTTCCAGATACGGTGCGCATTATGAAACCAGTATAGGGCGAGACTAATCTCACCAAATGCCCCTACCGTGGTCGTTCTACTTGCCGATGGGAAACATGCTTTTATCTCTTGAAGCCAACGTGGAACCTCGGAGCGGTTGAGTTACCACGTTCTCCAAATGATACTACCATTTACCCTGATCTGCGGCGCCGCTATCGTTGTTTTGAGGTTTTGCTAGTTGAGGAGGTTGCTAAGGTAACTCCATAAGGGTGTCCGTCTATATGGGGAAACCAGGAATTAGCAGGTATATTCGCAAGGTAATTCACCGACGGGTGTTCGAGGTTAGTCTTGTCGACCGGCCGCGACGGATGGGATCTTGACATCAACTGCAAACAGCAAACCTGCCGCTCTTACTGCAATTCTGCATTCTCCTCCGTTTTTTCGTATGTCAAATACTCTTAATAAGTTTACTCGAAAAATATAGAGGAGGCTATAGGCTACGGAGTGCCCTTTTTGATGGGACTCCACACGTAGCCGCAGTGAACGGGCGCCATGTGGATGGCCCATACTAGCGGGATCGTAATGCAATGTTCCAGGTGCGCTGAAGGGTCGCATTTACCCACCGGGTCGGACCCGGAGTTCGCTGTATGTCGTGTGTTAAGGTGTCACCTAGCGCTCCTATCACCGAGAGGAGGTAGGACGAGAAGATTTGCCATAGGACAATCGTTCTCTACTGCGCGATCTGCAATTGTCTGAGCTATCGAGGTACTCATGGATCAGTAGTTTGAATGGCGGCGGTAGCAGCACAGTTGCAGACT'"
      ]
     },
     "execution_count": 3,
     "metadata": {},
     "output_type": "execute_result"
    }
   ],
   "source": [
    "seq = my.make_random_seqs(L=L, N=1, alphabet=alphabet)[0]\n",
    "seq"
   ]
  },
  {
   "cell_type": "code",
   "execution_count": 4,
   "id": "0300a743-5f6c-4bf4-91b7-814e88b8ddf1",
   "metadata": {},
   "outputs": [
    {
     "data": {
      "text/plain": [
       "<498625x1 sparse matrix of type '<class 'numpy.float64'>'\n",
       "\twith 7984 stored elements in Compressed Sparse Column format>"
      ]
     },
     "execution_count": 4,
     "metadata": {},
     "output_type": "execute_result"
    }
   ],
   "source": [
    "x_ohe = my.seq_to_x_ohe(seq=seq, ohe_spec_str=ohe_spec_str, sparse=True)\n",
    "x_ohe"
   ]
  },
  {
   "cell_type": "code",
   "execution_count": 5,
   "id": "914454a4-61b5-465d-9984-5c344ec92193",
   "metadata": {},
   "outputs": [
    {
     "name": "stdout",
     "output_type": "stream",
     "text": [
      "ohe_spec_to_T...\n",
      "ohe_spec_to_B...\n",
      "ohe_to_sim_spec...\n",
      "get_thinning_matrix...\n",
      "get_distilling_matrix...\n",
      "E computation...\n",
      "---------------------------\n",
      "Results\n",
      "L: 1000\n",
      "alpha: 4\n",
      "n_order: 4\n",
      "n_adj: 4\n",
      "ohe_spec_str: .+0+1+2+3+4+5+6+7+8+9+10+11+12+13+14+15+16+17+18+19+20+21+22+23+24+25+26+27+28+2...\n",
      "sim_spec_str: .+.+0+.+1+.+2+.+3+.+4+.+5+.+6+.+7+.+8+.+9+.+10+.+11+.+12+.+13+.+14+.+15+.+16+.+1...\n",
      "M: 498,625\n",
      "gamma: 307,137\n",
      "Unique elements of gauge basis [-1  1]\n",
      "The code took 3.210 sec.\n",
      "\tohe_spec_to_T: 1.8773 sec.\n",
      "\tohe_spec_to_B: 0.3512 sec.\n",
      "\tohe_to_sim_spec: 0.0590 sec.\n",
      "\tget_thinning_matrix: 0.3028 sec.\n",
      "\tget_distilling_matrix: 0.1301 sec.\n",
      "\tE computation: 0.4888 sec.\n",
      "\t    T: 627,016,712 bytes, 0.252% dense.\n",
      "\t    A:  6,446,096 bytes, 0.003% dense.\n",
      "\t    B:  3,989,000 bytes, 0.002% dense.\n",
      "\t    D:  3,989,000 bytes, 0.002% dense.\n",
      "\t    E: 118,343,936 bytes, 0.048% dense.\n",
      "\tgauge_basis: 101,926,584 bytes, 0.041% dense.\n"
     ]
    }
   ],
   "source": [
    "timing_dict = {}\n",
    "\n",
    "### Start timing\n",
    "start_time = time.perf_counter()\n",
    "\n",
    "# Get transformation matrix\n",
    "print('ohe_spec_to_T...')\n",
    "t0 = time.perf_counter()\n",
    "T = my.ohe_spec_to_T(ohe_spec_str, alpha=alpha, compute_inv=False)\n",
    "timing_dict['ohe_spec_to_T'] =  time.perf_counter() - t0\n",
    "\n",
    "# Get reordering matrix\n",
    "print('ohe_spec_to_B...')\n",
    "t0 = time.perf_counter()\n",
    "B, B_inv = my.ohe_spec_to_B(ohe_spec_str, alpha=alpha)\n",
    "timing_dict['ohe_spec_to_B'] = time.perf_counter() - t0\n",
    "\n",
    "# Get sim_spec\n",
    "print('ohe_to_sim_spec...')\n",
    "t0 = time.perf_counter()\n",
    "sim_spec_str = my.ohe_to_sim_spec(ohe_spec_str)\n",
    "timing_dict['ohe_to_sim_spec'] = time.perf_counter() - t0\n",
    "\n",
    "# Get thinning matrix\n",
    "print('get_thinning_matrix...')\n",
    "t0 = time.perf_counter()\n",
    "A, A_inv = my.get_thinning_matrix(sim_spec_str, alpha=alpha)\n",
    "timing_dict['get_thinning_matrix'] = time.perf_counter() - t0\n",
    "\n",
    "# Get distilling matrix\n",
    "print('get_distilling_matrix...')\n",
    "t0 = time.perf_counter()\n",
    "D, D_inv, gamma = my.get_distilling_matrix(sim_spec_str, alpha=alpha)\n",
    "timing_dict['get_distilling_matrix'] = time.perf_counter() - t0\n",
    "\n",
    "# Get gauge basis\n",
    "print('E computation...')\n",
    "t0 = time.perf_counter()\n",
    "E = D @ A @ B @ T\n",
    "gauge_basis = E[-gamma:, :].T\n",
    "timing_dict['E computation'] = time.perf_counter() - t0\n",
    "\n",
    "### End timming\n",
    "end_time = time.perf_counter()\n",
    "\n",
    "# Display results:\n",
    "elapsed_time = end_time - start_time\n",
    "print(f'---------------------------\\nResults')\n",
    "print(f'L: {L}')\n",
    "print(f'alpha: {alpha}')\n",
    "print(f'n_order: {n_order}')\n",
    "print(f'n_adj: {n_adj}')\n",
    "print(f'ohe_spec_str: {ohe_spec_str[:80]}...')\n",
    "print(f'sim_spec_str: {sim_spec_str[:80]}...')\n",
    "\n",
    "M = T.shape[0]\n",
    "print(f'M: {M:,d}')\n",
    "print(f'gamma: {gamma:,d}')\n",
    "print('Unique elements of gauge basis', np.unique(gauge_basis.data))\n",
    "\n",
    "print(f\"The code took {elapsed_time:.3f} sec.\")\n",
    "for key, val in timing_dict.items():\n",
    "    print(f\"\\t{key}: {val:.4f} sec.\")\n",
    "\n",
    "# Objects of interest:\n",
    "objs_dict = {'    T':T,\n",
    "             '    A':A,\n",
    "             '    B':B,\n",
    "             '    D':D,\n",
    "             '    E':E,\n",
    "             'gauge_basis':gauge_basis}\n",
    "for key, val in objs_dict.items():\n",
    "    size = val.data.nbytes\n",
    "    pct = 100*size/(M*M)\n",
    "    print(f\"\\t{key}: {size:10,d} bytes, {pct:.3f}% dense.\")"
   ]
  },
  {
   "cell_type": "code",
   "execution_count": 6,
   "id": "c64f264f-37a4-47c6-837d-ef724eecb6d9",
   "metadata": {},
   "outputs": [
    {
     "name": "stdout",
     "output_type": "stream",
     "text": [
      "3,071,370 dot products between 307,137 gauge vectors and encodings of 10 random seqs are all zero: True\n",
      "Unique nonzero elements of gauge basis [-1  1]\n"
     ]
    }
   ],
   "source": [
    "# Make sure gauge basis is actually orthogonal to xs. \n",
    "\n",
    "# Randomly sample gauge vectors\n",
    "num_gauge_vecs = gamma\n",
    "gauge_vec_ix = np.random.choice(a=gamma, size=num_gauge_vecs, replace=False)\n",
    "gauge_vecs = gauge_basis[:,gauge_vec_ix]\n",
    "\n",
    "# Randomly sample sequences and encode them\n",
    "num_rand_seqs = 10\n",
    "rand_seqs = my.make_random_seqs(L, N=num_rand_seqs, alphabet=alphabet)\n",
    "x_ohes = sp.hstack([my.seq_to_x_ohe(seq, ohe_spec_str, alphabet=alphabet) for seq in rand_seqs])\n",
    "dots = (gauge_vecs.T@x_ohes).todense()\n",
    "\n",
    "# Take dot products and make sure all are zero\n",
    "print(f'{len(dots.ravel()):,} dot products between {num_gauge_vecs:,} gauge vectors and encodings of {num_rand_seqs:,} random seqs are all zero: {np.allclose(dots, 0)}')\n",
    "print('Unique nonzero elements of gauge basis', np.unique(gauge_basis.data))"
   ]
  },
  {
   "cell_type": "code",
   "execution_count": null,
   "id": "3b600761-1894-4d2b-b865-d8015b7b6141",
   "metadata": {},
   "outputs": [],
   "source": []
  }
 ],
 "metadata": {
  "kernelspec": {
   "display_name": "Python 3",
   "language": "python",
   "name": "python3"
  },
  "language_info": {
   "codemirror_mode": {
    "name": "ipython",
    "version": 3
   },
   "file_extension": ".py",
   "mimetype": "text/x-python",
   "name": "python",
   "nbconvert_exporter": "python",
   "pygments_lexer": "ipython3",
   "version": "3.9.15"
  }
 },
 "nbformat": 4,
 "nbformat_minor": 5
}
