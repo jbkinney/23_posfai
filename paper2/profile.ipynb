{
 "cells": [
  {
   "cell_type": "code",
   "execution_count": 6,
   "id": "533aeaec-8b85-4850-90a2-c1faccd0945c",
   "metadata": {},
   "outputs": [],
   "source": [
    "import numpy as np\n",
    "import matplotlib.pyplot as plt\n",
    "import posfai2 as my\n",
    "import time\n",
    "import scipy.sparse as sp"
   ]
  },
  {
   "cell_type": "code",
   "execution_count": 7,
   "id": "6933dbb4-0503-4752-b242-5e6b1521f108",
   "metadata": {},
   "outputs": [],
   "source": [
    "# Define model\n",
    "alphabet='ACGT'\n",
    "alpha = len(alphabet)\n",
    "L = 2; \n",
    "n_order=2;\n",
    "n_adj=2\n",
    "ohe_spec = my.get_ohe_spec_str(L, n_order=n_order, n_adj=n_adj)\n",
    "seq = 'AC'\n",
    "#seq = my.make_random_seqs(L=L, num_seqs=1, alphabet=alphabet)[0]"
   ]
  },
  {
   "cell_type": "code",
   "execution_count": 8,
   "id": "768303d3-b913-4761-be13-a54c9725a453",
   "metadata": {},
   "outputs": [
    {
     "name": "stdout",
     "output_type": "stream",
     "text": [
      "New function: 0.0005053329999995526\n"
     ]
    },
    {
     "data": {
      "text/plain": [
       "array([[1, 1, 0, 0, 0, 0, 1, 0, 0, 0, 1, 0, 0, 0, 0, 0, 0, 0, 0, 0, 0, 0,\n",
       "        0, 0, 0]])"
      ]
     },
     "execution_count": 8,
     "metadata": {},
     "output_type": "execute_result"
    }
   ],
   "source": [
    "# New function\n",
    "t0 = time.perf_counter()\n",
    "x_ohe_new = my.seq_to_x_ohe(seq=seq, ohe_spec=ohe_spec, alphabet=alphabet)\n",
    "elapsed_time = time.perf_counter()-t0\n",
    "print(f'New function: {elapsed_time}')\n",
    "x_new = x_ohe_new.todense().T\n",
    "x_new"
   ]
  },
  {
   "cell_type": "code",
   "execution_count": null,
   "id": "1b49c633-c03b-4a14-89ee-9b1a6730b2ab",
   "metadata": {},
   "outputs": [],
   "source": []
  },
  {
   "cell_type": "code",
   "execution_count": null,
   "id": "35d19790-abaa-4d74-8ad4-2294b7b79173",
   "metadata": {},
   "outputs": [],
   "source": []
  }
 ],
 "metadata": {
  "kernelspec": {
   "display_name": "Python 3",
   "language": "python",
   "name": "python3"
  },
  "language_info": {
   "codemirror_mode": {
    "name": "ipython",
    "version": 3
   },
   "file_extension": ".py",
   "mimetype": "text/x-python",
   "name": "python",
   "nbconvert_exporter": "python",
   "pygments_lexer": "ipython3",
   "version": "3.9.15"
  }
 },
 "nbformat": 4,
 "nbformat_minor": 5
}
