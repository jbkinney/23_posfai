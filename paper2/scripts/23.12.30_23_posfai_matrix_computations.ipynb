{
 "cells": [
  {
   "cell_type": "code",
   "execution_count": 1,
   "id": "9f572643-4f02-44f6-a859-5bd3da6ee6dc",
   "metadata": {},
   "outputs": [],
   "source": [
    "###\n",
    "### Start again from here\n",
    "###\n",
    "\n",
    "import numpy as np\n",
    "import matplotlib.pyplot as plt\n",
    "import scipy.sparse as sp"
   ]
  },
  {
   "cell_type": "code",
   "execution_count": 2,
   "id": "84204eac-11e5-49a9-8682-d9c205a4d2c7",
   "metadata": {},
   "outputs": [
    {
     "name": "stdout",
     "output_type": "stream",
     "text": [
      "L=4\n",
      "L_to_spec_str_constant(): \".\"\n",
      "L_to_spec_str_additive(L=4): \".+0+1+2+3\"\n",
      "L_to_spec_str_neighbor(L=4): \".+0+1+2+3+0x1+1x2+2x3\"\n",
      "L_to_spec_str_pairwise(L=4): \".+0+1+2+3+0x1+0x2+0x3+1x2+1x3+2x3\"\n",
      "L_to_spec_str_3adjacent(L=4): \".+0+1+2+3+0x1+1x2+2x3+0x1x2+1x2x3\"\n",
      "L_to_spec_str_3order(L=4): \".+0+1+2+3+0x1+0x2+0x3+1x2+1x3+2x3+0x1x2+0x1x3+0x2x3+1x2x3\"\n"
     ]
    }
   ],
   "source": [
    "### Define and test L_to_spec_str functions\n",
    "L = 4\n",
    "print(f'L={L}')\n",
    "\n",
    "def L_to_spec_str_constant():\n",
    "    return '.'\n",
    "print(f'L_to_spec_str_constant(): \"{L_to_spec_str_constant()}\"')\n",
    "\n",
    "def L_to_spec_str_additive(L):\n",
    "    parts = []\n",
    "    parts.append(L_to_spec_str_constant())\n",
    "    for i in range(L):\n",
    "        parts.append(f'{i:d}')\n",
    "    return '+'.join(parts)\n",
    "print(f'L_to_spec_str_additive(L={L}): \"{L_to_spec_str_additive(L=L)}\"')\n",
    "\n",
    "def L_to_spec_str_neighbor(L):\n",
    "    parts = []\n",
    "    parts.append(L_to_spec_str_additive(L))\n",
    "    for i in range(L-1):\n",
    "        parts.append(f'{i:d}x{i+1:d}')\n",
    "    return '+'.join(parts)\n",
    "print(f'L_to_spec_str_neighbor(L={L}): \"{L_to_spec_str_neighbor(L=L)}\"')\n",
    "\n",
    "def L_to_spec_str_pairwise(L):\n",
    "    parts = []\n",
    "    parts.append(L_to_spec_str_additive(L))\n",
    "    for i in range(L-1):\n",
    "        for j in range(i+1,L):\n",
    "            parts.append(f'{i:d}x{j:d}')\n",
    "    return '+'.join(parts)\n",
    "print(f'L_to_spec_str_pairwise(L={L}): \"{L_to_spec_str_pairwise(L=L)}\"')\n",
    "\n",
    "def L_to_spec_str_3adjacent(L):\n",
    "    parts = []\n",
    "    parts.append(L_to_spec_str_neighbor(L))\n",
    "    for i in range(L-2):\n",
    "        parts.append(f'{i:d}x{i+1:d}x{i+2}')\n",
    "    return '+'.join(parts)\n",
    "print(f'L_to_spec_str_3adjacent(L={L}): \"{L_to_spec_str_3adjacent(L=L)}\"')\n",
    "\n",
    "def L_to_spec_str_3order(L):\n",
    "    parts = []\n",
    "    parts.append(L_to_spec_str_pairwise(L))\n",
    "    for i in range(L-2):\n",
    "        for j in range(i+1,L-1):\n",
    "            for k in range(j+1,L):\n",
    "                parts.append(f'{i:d}x{j:d}x{k:d}')\n",
    "    return '+'.join(parts)\n",
    "print(f'L_to_spec_str_3order(L={L}): \"{L_to_spec_str_3order(L=L)}\"')\n"
   ]
  },
  {
   "cell_type": "code",
   "execution_count": 3,
   "id": "de8b5f08-4b2c-46e9-9112-c225bab90218",
   "metadata": {},
   "outputs": [
    {
     "name": "stdout",
     "output_type": "stream",
     "text": [
      "M: 25\n",
      "ohe_spec_str: .+0+1+0x1\n",
      "x:  [1 1 0 0 0 1 0 0 0 1 0 0 0 0 0 0 0 0 0 0 0 0 0 0 0]\n"
     ]
    }
   ],
   "source": [
    "### Define and test seq_to_x function\n",
    "x_triv = np.array([1])\n",
    "x_ohe_A = np.array([1, 0, 0, 0])\n",
    "x_ohe_C = np.array([0, 1, 0, 0])\n",
    "x_ohe_G = np.array([0, 0, 1, 0])\n",
    "x_ohe_T = np.array([0, 0, 0, 1])\n",
    "\n",
    "char_to_ohe_dict = {\n",
    "    'A':x_ohe_A,\n",
    "    'C':x_ohe_C,\n",
    "    'G':x_ohe_G,\n",
    "    'T':x_ohe_T\n",
    "}\n",
    "\n",
    "def seq_to_x(seq, ohe_spec_str):\n",
    "    '''\n",
    "    inputs: seq (DNA), ohe_spec_str\n",
    "    returns: x, a one-hot encoding\n",
    "    '''\n",
    "    L = len(seq)\n",
    "    x_components = []\n",
    "    \n",
    "    ohe_spec_str_parts = ohe_spec_str.split('+')\n",
    "    for part in ohe_spec_str_parts:\n",
    "        \n",
    "        # Add in trivial component\n",
    "        if part=='.':\n",
    "            x_components.append(x_triv)\n",
    "        else:\n",
    "            positions = [int(p) for p in part.split('x')]\n",
    "            assert len(positions) > 0\n",
    "            x_irr = x_triv\n",
    "            while len(positions) > 0:\n",
    "                pos = positions.pop(-1)\n",
    "                c = seq[pos]\n",
    "                x_l = char_to_ohe_dict[c]\n",
    "                x_irr = np.kron(x_irr, x_l)\n",
    "            x_components.append(x_irr)\n",
    "    \n",
    "    # Create x\n",
    "    x = np.concatenate(x_components)\n",
    "    return x\n",
    "\n",
    "# Test seq_to_x_neighbor\n",
    "seq = 'AA'\n",
    "L = len(seq)\n",
    "ohe_spec_str = L_to_spec_str_neighbor(L)\n",
    "x = seq_to_x(seq, ohe_spec_str)\n",
    "print('M:', len(x))\n",
    "print('ohe_spec_str:', ohe_spec_str)\n",
    "print('x: ', x)"
   ]
  },
  {
   "cell_type": "code",
   "execution_count": 4,
   "id": "ebdf740c-f365-4143-94e4-e1ed90151bf1",
   "metadata": {},
   "outputs": [
    {
     "data": {
      "text/plain": [
       "<25x25 sparse matrix of type '<class 'numpy.float64'>'\n",
       "\twith 289 stored elements in Compressed Sparse Row format>"
      ]
     },
     "execution_count": 4,
     "metadata": {},
     "output_type": "execute_result"
    },
    {
     "data": {
      "image/png": "[encoded data removed]",
      "text/plain": [
       "<Figure size 480x480 with 2 Axes>"
      ]
     },
     "metadata": {},
     "output_type": "display_data"
    }
   ],
   "source": [
    "### Define and test _ohe_spec_to_T function\n",
    "\n",
    "# Trivial matrix\n",
    "T_triv = sp.csr_array([[1]])\n",
    "\n",
    "# ohe_to_block for single position\n",
    "T_ohe = sp.csr_array([\n",
    "    [1, 1, 1, 1],\n",
    "    [1, 0, 0, -1],\n",
    "    [0, 1, 0, -1],\n",
    "    [0, 0, 1, -1]\n",
    "])\n",
    "T_ohe_inv = sp.csr_matrix(np.linalg.inv(T_ohe.todense()))\n",
    "\n",
    "alpha = 4\n",
    "import pdb\n",
    "def _ohe_spec_to_T(ohe_spec_str):\n",
    "    '''\n",
    "    input: ohe_spec_str\n",
    "    output: T (s.t. T x = x_factored)\n",
    "    '''\n",
    "    parts = ohe_spec_str.split('+')\n",
    "    diag_mats = []\n",
    "    diag_mats_inv = []\n",
    "    for part in parts:\n",
    "        if part == '.':\n",
    "            T_part = T_triv\n",
    "            T_part_inv = T_triv\n",
    "        else:\n",
    "            bits = part.split('x')\n",
    "            T_part = T_triv\n",
    "            T_part_inv = T_triv\n",
    "            for bit in part.split('x'):\n",
    "                alpha = T_ohe.shape[0]\n",
    "                m = T_part.shape[0]\n",
    "\n",
    "                # Compute kronecker product\n",
    "                T_part = sp.kron(T_part, T_ohe)\n",
    "                T_part_inv = sp.kron(T_ohe_inv,T_part_inv)\n",
    "\n",
    "                # Fix up row orderd (# Is this where this goes?)\n",
    "                i_vals = list(range(m*alpha))\n",
    "                j_vals = [alpha*i for i in range(m)] + [i-m+1+(i-m)//(alpha-1) for i in range(m,m*alpha)]\n",
    "                data = m*alpha*[1]\n",
    "                B = sp.coo_array((data, (i_vals, j_vals)), shape=(alpha*m,alpha*m)).tocsr()\n",
    "                #pdb.set_trace()\n",
    "                T_part = B@T_part@(B.T)\n",
    "                T_part_inv = B@T_part_inv@(B.T)\n",
    "        diag_mats.append(T_part)\n",
    "        diag_mats_inv.append(T_part_inv)\n",
    "    T = sp.block_diag(diag_mats, format='csr')\n",
    "    T_inv = sp.block_diag(diag_mats_inv, format='csr')\n",
    "    return T, T_inv\n",
    "\n",
    "# Test ohe_spec_str_to_T\n",
    "T, T_inv = _ohe_spec_to_T(ohe_spec_str)\n",
    "plt.matshow(T.todense())\n",
    "plt.colorbar()\n",
    "T_inv"
   ]
  },
  {
   "cell_type": "code",
   "execution_count": 5,
   "id": "1b662857-4800-460f-a849-5cece6c175f6",
   "metadata": {},
   "outputs": [
    {
     "data": {
      "text/plain": [
       "[['0', '4', '6'],\n",
       " ['0', '5', '6'],\n",
       " ['1', '4', '6'],\n",
       " ['1', '5', '6'],\n",
       " ['3', '4', '6'],\n",
       " ['3', '5', '6']]"
      ]
     },
     "execution_count": 5,
     "metadata": {},
     "output_type": "execute_result"
    }
   ],
   "source": [
    "def my_expand(x):\n",
    "    \"\"\"\n",
    "    Expands a list of lists. Simulates product expansion\n",
    "    \"\"\"\n",
    "    if len(x) >= 1:\n",
    "        a = x[0]\n",
    "        b = x[1:]\n",
    "        b_exp = my_expand(b)\n",
    "        c = [[y]+z for y in a for z in b_exp]        \n",
    "        return c\n",
    "    else:\n",
    "        return [x]\n",
    "\n",
    "my_expand([['0', '1', '3'], ['4','5'], ['6']])"
   ]
  },
  {
   "cell_type": "code",
   "execution_count": 40,
   "id": "69661227-1d66-4e2d-ac8b-d368c16fe8e8",
   "metadata": {},
   "outputs": [
    {
     "name": "stdout",
     "output_type": "stream",
     "text": [
      "ohe_spec_str: \"0x1\"\n",
      "sim_spec_str: \".+1+0+0x1\"\n"
     ]
    }
   ],
   "source": [
    "### Convert OHE to SIM spec\n",
    "def ohe_to_sim_spec(ohe_spec_str):\n",
    "    a = ohe_spec_str.split('+')\n",
    "    b = [z.split('x') for z in a]\n",
    "    for i in range(len(b)):\n",
    "        for j in range(len(b[i])):\n",
    "            z = b[i][j]\n",
    "            if z!='.':\n",
    "                b[i][j]=['.',z]\n",
    "    \n",
    "    # Recursive expansion\n",
    "    c = []\n",
    "    for i, b_el in enumerate(b):\n",
    "        if isinstance(b_el, str):\n",
    "            c.append([b_el])\n",
    "        elif isinstance(b_el, list) and len(b_el)>=1:\n",
    "            c.extend(my_expand(b_el))\n",
    "\n",
    "    # Remove redundant factors of '.'\n",
    "    sim_spec_list = []\n",
    "    for x in c:\n",
    "        y = [z for z in x if z!='.']\n",
    "        if len(y)==0:\n",
    "            y = ['.']\n",
    "        sim_spec_list.append(y)\n",
    "    sim_spec_str = '+'.join(['x'.join(z) for z in sim_spec_list])\n",
    "    return sim_spec_str\n",
    "\n",
    "# Test expansion\n",
    "sim_spec_str = ohe_to_sim_spec(ohe_spec_str)\n",
    "print(f'ohe_spec_str: \"{ohe_spec_str}\"')\n",
    "print(f'sim_spec_str: \"{sim_spec_str}\"')"
   ]
  },
  {
   "cell_type": "code",
   "execution_count": 7,
   "id": "73398538-52d6-4288-a5bf-1a5e27c38e37",
   "metadata": {},
   "outputs": [
    {
     "name": "stdout",
     "output_type": "stream",
     "text": [
      "25\n",
      "[('.', 1, 0), ('.', 1, 1), ('0', 3, 2), ('.', 1, 5), ('1', 3, 6), ('.', 1, 9), ('1', 3, 10), ('0', 3, 13), ('0x1', 9, 16)]\n"
     ]
    }
   ],
   "source": [
    "# Compute starting positions for each entry in the sim_spec_str\n",
    "def get_shifts_and_sizes(spec_str, encoding_size):\n",
    "    \"\"\" inputs spec list. outputs a list of (spec, size, shift) \"\"\"\n",
    "    spec_list = [x.split('x') for x in spec_str.split('+')]\n",
    "    specs = []\n",
    "    shift = 0\n",
    "    for x in spec_list:\n",
    "        if len(x)==1 and x[0]=='.':\n",
    "            size = 1\n",
    "        else:\n",
    "            size = encoding_size**len(x)\n",
    "        specs.append(('x'.join(x),size,shift))\n",
    "        shift += size\n",
    "    M = shift\n",
    "    return specs, M\n",
    "\n",
    "specs, M = get_shifts_and_sizes(sim_spec_str, encoding_size=3)\n",
    "print(M)\n",
    "print(specs)"
   ]
  },
  {
   "cell_type": "code",
   "execution_count": 8,
   "id": "32de2d4f-2024-405e-9706-95b79364ea35",
   "metadata": {},
   "outputs": [
    {
     "data": {
      "text/plain": [
       "Text(0.5, 1.0, 'A_inv')"
      ]
     },
     "execution_count": 8,
     "metadata": {},
     "output_type": "execute_result"
    },
    {
     "data": {
      "image/png": "[encoded data removed]",
      "text/plain": [
       "<Figure size 1000x500 with 2 Axes>"
      ]
     },
     "metadata": {},
     "output_type": "display_data"
    }
   ],
   "source": [
    "def _get_thinning_matrix(spec_str, encoding_size):\n",
    "\n",
    "    # Build zeroing-out matrix\n",
    "    component_dict = {}\n",
    "    diag_vecs = []\n",
    "    inv_diag_vecs = []\n",
    "    diag_offsets = []\n",
    "    \n",
    "    # Get specs list\n",
    "    specs, M = get_shifts_and_sizes(sim_spec_str, encoding_size=encoding_size)\n",
    "    \n",
    "    # Add in main diagonal\n",
    "    diag_vecs.append(M*[1])\n",
    "    inv_diag_vecs.append(M*[1])\n",
    "    diag_offsets.append(0)\n",
    "    for spec in specs:\n",
    "        key = spec[0]\n",
    "        m = spec[1]\n",
    "        offset = spec[2]\n",
    "        if key not in component_dict:\n",
    "            component_dict[key] = (m,offset)\n",
    "        else:\n",
    "            m1, offset1 = component_dict[key]\n",
    "            try:\n",
    "                assert m1==m\n",
    "            except:\n",
    "                print('m1:', m1)\n",
    "                print('m:', m)\n",
    "                pdb.set_trace()\n",
    "            diag_vec = offset1*[0]+m*[-1]+(M-(offset+m))*[0]\n",
    "            inv_diag_vec = offset1*[0]+m*[1]+(M-(offset+m))*[0]\n",
    "            diag_offset = -(offset-offset1)\n",
    "            diag_vecs.append(diag_vec)\n",
    "            inv_diag_vecs.append(inv_diag_vec)\n",
    "            diag_offsets.append(diag_offset)\n",
    "    A = sp.diags(diag_vecs, diag_offsets)\n",
    "    A_inv = sp.diags(inv_diag_vecs, diag_offsets)\n",
    "    return A, A_inv\n",
    "\n",
    "fig, axs = plt.subplots(1,2, figsize=[10,5])\n",
    "A, A_inv = _get_thinning_matrix(sim_spec_str, encoding_size=3)\n",
    "ax = axs[0]\n",
    "ax.matshow(A.todense(), vmin=-1, vmax=1)\n",
    "ax.set_title('A')\n",
    "\n",
    "ax = axs[1]\n",
    "ax.matshow(A_inv.todense(), vmin=-1, vmax=1)\n",
    "ax.set_title('A_inv')"
   ]
  },
  {
   "cell_type": "code",
   "execution_count": 9,
   "id": "1608f39c-3650-43f2-b118-7ac7e4369ea7",
   "metadata": {},
   "outputs": [],
   "source": [
    "# Copy dictionary, adding a counter\n",
    "import pdb\n",
    "def get_x_to_test_thinning_matrix(sim_spec_str):\n",
    "    \"\"\"\n",
    "    input: sim_spec_str\n",
    "    return: x_test\n",
    "    \"\"\"\n",
    "    # Get shifts and sizes\n",
    "    specs, M = get_shifts_and_sizes(sim_spec_str, encoding_size=3)\n",
    "\n",
    "    # Get unique labels\n",
    "    labels = []\n",
    "    for spec in specs:\n",
    "        key = spec[0]\n",
    "        if not key in labels:\n",
    "            labels.append(key)\n",
    "\n",
    "    # Create labels dict\n",
    "    labels_dict = {}\n",
    "    counter = 1\n",
    "    for label in labels:\n",
    "        labels_dict[label] = .1+.9*counter/len(labels)\n",
    "        counter +=1 \n",
    "        \n",
    "    # Build x_test\n",
    "    x_test = np.zeros(M)\n",
    "    for spec in specs:\n",
    "        key = spec[0]\n",
    "        m = spec[1]\n",
    "        offset = spec[2]\n",
    "        r = labels_dict[key]\n",
    "        x_test[offset:offset+m]=r\n",
    "    \n",
    "    return x_test"
   ]
  },
  {
   "cell_type": "code",
   "execution_count": 10,
   "id": "fda7dcff-d981-49f0-9ea2-a76983393d9e",
   "metadata": {},
   "outputs": [
    {
     "name": "stdout",
     "output_type": "stream",
     "text": [
      ".+.+0+.+1+.+1+0+0x1\n"
     ]
    },
    {
     "data": {
      "image/png": "[encoded data removed]",
      "text/plain": [
       "<Figure size 1000x200 with 2 Axes>"
      ]
     },
     "metadata": {},
     "output_type": "display_data"
    }
   ],
   "source": [
    "# Test the thinning matrix A\n",
    "\n",
    "# Get x to test thinning matrix\n",
    "x_test = get_x_to_test_thinning_matrix(sim_spec_str)\n",
    "\n",
    "# Make figure\n",
    "fig, axs = plt.subplots(2,1,figsize=[10,2])\n",
    "\n",
    "# Show x_test\n",
    "ax = axs[0]\n",
    "ax.matshow(x_test.reshape([M,1]).T, vmin=0, vmax=1, cmap='jet')\n",
    "ax.set_yticks([])\n",
    "ax.set_title('x_test')\n",
    "ax.set_aspect('auto')\n",
    "#ax.colorbar()\n",
    "\n",
    "# Show A@x_test\n",
    "ax = axs[1]\n",
    "ax.matshow((A@x_test).reshape([M,1]).T, vmin=0, vmax=1, cmap='jet')\n",
    "ax.set_yticks([])\n",
    "ax.set_title('A@x_test')\n",
    "ax.set_aspect('auto')\n",
    "#ax.set_colorbar()\n",
    "\n",
    "plt.tight_layout()\n",
    "print(sim_spec_str)"
   ]
  },
  {
   "cell_type": "code",
   "execution_count": 39,
   "id": "a32691d9-597f-46c8-8f31-a96b8c4688dd",
   "metadata": {},
   "outputs": [
    {
     "name": "stdout",
     "output_type": "stream",
     "text": [
      "x_ohe.shape: (16,)\n",
      "M: 16\n",
      "T.shape: (16, 16)\n",
      "A.shape: (16, 16)\n",
      "x_test.shape: (16,)\n",
      ".+1+0+0x1\n"
     ]
    },
    {
     "data": {
      "image/png": "[encoded data removed]",
      "text/plain": [
       "<Figure size 1000x200 with 2 Axes>"
      ]
     },
     "metadata": {},
     "output_type": "display_data"
    }
   ],
   "source": [
    "# Test whole peline\n",
    "\n",
    "# Specify sequence and ohe_spec_str\n",
    "seq = 'GG'\n",
    "ohe_spec_str = '0x1'\n",
    "\n",
    "# Get one-hot encoding of x\n",
    "x_ohe = seq_to_x(seq, ohe_spec_str)\n",
    "print(f'x_ohe.shape: {x_ohe.shape}')\n",
    "\n",
    "M = len(x_ohe)\n",
    "print(f'M: {M}')\n",
    "\n",
    "# Get transformation matrix\n",
    "T, T_inv = _ohe_spec_to_T(ohe_spec_str)\n",
    "print(f'T.shape: {T.shape}')\n",
    "\n",
    "# Get sim_spec\n",
    "sim_spec_str = ohe_to_sim_spec(ohe_spec_str)\n",
    "\n",
    "# Get thinning matrix\n",
    "A, A_inv = _get_thinning_matrix(sim_spec_str, encoding_size=3)\n",
    "print(f'A.shape: {A.shape}')\n",
    "\n",
    "# Get vector to test thinning matrix\n",
    "x_test = get_x_to_test_thinning_matrix(sim_spec_str)\n",
    "print(f'x_test.shape: {x_test.shape}')\n",
    "\n",
    "# Make figure\n",
    "fig, axs = plt.subplots(2,1,figsize=[10,2])\n",
    "\n",
    "# Show x_ohe\n",
    "ax = axs[0]\n",
    "ax.matshow(np.mat(x_ohe), vmin=-1, vmax=1, cmap='jet')\n",
    "ax.set_yticks([])\n",
    "ax.set_title('x_ohe')\n",
    "ax.set_aspect('auto')\n",
    "ax.set_xticks(range(M))\n",
    "ax.set_xticklabels([])\n",
    "\n",
    "# Show T@x_ohe\n",
    "ax = axs[1]\n",
    "ax.matshow(np.mat(T@x_ohe), vmin=-1, vmax=1, cmap='jet')\n",
    "ax.set_yticks([])\n",
    "ax.set_title('T@x_ohe')\n",
    "ax.set_aspect('auto')\n",
    "ax.set_xticks(range(M))\n",
    "ax.set_xticklabels([])\n",
    "\n",
    "# # Show x_test\n",
    "# ax = axs[2]\n",
    "# ax.matshow(np.mat(x_test), vmin=0, vmax=1, cmap='jet')\n",
    "# ax.set_yticks([])\n",
    "# ax.set_title('x_test')\n",
    "# ax.set_aspect('auto')\n",
    "# ax.set_xticks(range(M))\n",
    "# ax.set_xticklabels([])\n",
    "\n",
    "# # Show A@T@x_ohe\n",
    "# ax = axs[3]\n",
    "# ax.matshow(np.mat(A@T@x_ohe), vmin=-1, vmax=1, cmap='jet')\n",
    "# ax.set_yticks([])\n",
    "# ax.set_title('A@T@x_ohe')\n",
    "# ax.set_aspect('auto')\n",
    "# ax.set_xticks(range(M))\n",
    "# ax.set_xticklabels([])\n",
    "\n",
    "# # Show A@x_test\n",
    "# ax = axs[4]\n",
    "# ax.matshow(np.mat(A@x_test), vmin=0, vmax=1, cmap='jet')\n",
    "# ax.set_yticks([])\n",
    "# ax.set_title('A@x_test')\n",
    "# ax.set_aspect('auto')\n",
    "# ax.set_xticks(range(M))\n",
    "# ax.set_xticklabels([])\n",
    "\n",
    "plt.tight_layout()\n",
    "print(sim_spec_str)"
   ]
  },
  {
   "cell_type": "code",
   "execution_count": 16,
   "id": "fe3c6308-d246-45cb-ba60-b82df98dd95d",
   "metadata": {},
   "outputs": [],
   "source": [
    "# The transformed one-hot encoding is not working. Need to verify order-by-order. "
   ]
  },
  {
   "cell_type": "code",
   "execution_count": null,
   "id": "b9c17e26-df35-4265-b681-77543e12b222",
   "metadata": {},
   "outputs": [],
   "source": [
    "x.shape"
   ]
  },
  {
   "cell_type": "code",
   "execution_count": null,
   "id": "2caf3e20-073f-4ea7-98b3-7afd121ac481",
   "metadata": {},
   "outputs": [],
   "source": [
    "plt.matshow(T.todense())"
   ]
  },
  {
   "cell_type": "code",
   "execution_count": null,
   "id": "e01eabf9-677a-4d7b-8040-024f76889b54",
   "metadata": {},
   "outputs": [],
   "source": [
    "x_ohe = x_ohe_G\n",
    "x_sim = T_ohe@x_ohe\n",
    "x_sim"
   ]
  },
  {
   "cell_type": "code",
   "execution_count": null,
   "id": "34c25fc9-4b65-4681-a432-5b268c21e8e9",
   "metadata": {},
   "outputs": [],
   "source": [
    "np.kron(x_sim_A, x_sim_A)"
   ]
  },
  {
   "cell_type": "code",
   "execution_count": null,
   "id": "41714b3a-b9a2-4b39-a5d3-0507d5f4fe05",
   "metadata": {},
   "outputs": [],
   "source": [
    "# Oh fuck. There is another transformation that's needed to decompose factored products. \n",
    "# What the hell is going on!? Oh fuck, kronecker products do NOT distribute over direct sums. \n",
    "# Well, supposedly they do, but up to some reordering of elements. What is the \n",
    "# reordering of the elements, and how do I incorporate this?"
   ]
  },
  {
   "cell_type": "code",
   "execution_count": null,
   "id": "5573ccc9-36ed-4b2f-86cc-9d31b8411f35",
   "metadata": {},
   "outputs": [],
   "source": [
    "alpha = 4\n",
    "m = 4\n",
    "i_vals = list(range(m*alpha))\n",
    "j_vals = [alpha*i for i in range(m)] + [i-m+1+(i-m)//(alpha-1) for i in range(m,m*alpha)]\n",
    "data = m*alpha*[1]\n",
    "B = sp.coo_array((data, (i_vals, j_vals))).todense()\n",
    "\n",
    "plt.matshow((B.T)@B)\n",
    "\n",
    "plt.matshow(np.linalg.inv(B))\n",
    "    "
   ]
  },
  {
   "cell_type": "code",
   "execution_count": null,
   "id": "55e32928-05ae-4b00-9a46-311b0a3745a3",
   "metadata": {},
   "outputs": [],
   "source": []
  },
  {
   "cell_type": "code",
   "execution_count": null,
   "id": "efdbd4e0-0054-41bd-8cb1-285c9809fc92",
   "metadata": {},
   "outputs": [],
   "source": []
  }
 ],
 "metadata": {
  "kernelspec": {
   "display_name": "base",
   "language": "python",
   "name": "base"
  },
  "language_info": {
   "codemirror_mode": {
    "name": "ipython",
    "version": 3
   },
   "file_extension": ".py",
   "mimetype": "text/x-python",
   "name": "python",
   "nbconvert_exporter": "python",
   "pygments_lexer": "ipython3",
   "version": "3.11.5"
  },
  "varInspector": {
   "cols": {
    "lenName": 16,
    "lenType": 16,
    "lenVar": 40
   },
   "kernels_config": {
    "python": {
     "delete_cmd_postfix": "",
     "delete_cmd_prefix": "del ",
     "library": "var_list.py",
     "varRefreshCmd": "print(var_dic_list())"
    },
    "r": {
     "delete_cmd_postfix": ") ",
     "delete_cmd_prefix": "rm(",
     "library": "var_list.r",
     "varRefreshCmd": "cat(var_dic_list()) "
    }
   },
   "types_to_exclude": [
    "module",
    "function",
    "builtin_function_or_method",
    "instance",
    "_Feature"
   ],
   "window_display": false
  }
 },
 "nbformat": 4,
 "nbformat_minor": 5
}
