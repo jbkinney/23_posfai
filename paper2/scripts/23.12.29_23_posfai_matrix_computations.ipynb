{
 "cells": [
  {
   "cell_type": "code",
   "execution_count": 91,
   "id": "89c57369",
   "metadata": {
    "ExecuteTime": {
     "end_time": "2023-12-30T00:18:50.089926Z",
     "start_time": "2023-12-30T00:18:49.744461Z"
    }
   },
   "outputs": [],
   "source": [
    "import numpy as np\n",
    "import matplotlib.pyplot as plt\n",
    "import scipy.sparse as sp"
   ]
  },
  {
   "cell_type": "markdown",
   "id": "49eb4b1f",
   "metadata": {},
   "source": [
    "$$\n",
    "    \\vec{x}_\\mathrm{pair} = \\vec{x}^\\mathrm{\\,triv} \\oplus \\left\\{\\bigoplus_l \\vec{x}_l^\\mathrm{\\,ohe} \\right\\} \\oplus \\left\\{\\bigoplus_{l < l'} \\vec{x}_l^\\mathrm{\\,ohe}  \\otimes \\vec{x}_{l'}^\\mathrm{\\,ohe}  \\right\\},\n",
    "$$"
   ]
  },
  {
   "cell_type": "markdown",
   "id": "50c5db8f",
   "metadata": {},
   "source": [
    "$$\n",
    "    T_\\mathrm{pair} = T^\\mathrm{\\,triv} \\oplus \\left\\{\\bigoplus_l T^\\mathrm{\\,ohe} \\right\\} \\oplus \\left\\{\\bigoplus_{l < l'} T^\\mathrm{\\,ohe}  \\otimes T^\\mathrm{\\,ohe}  \\right\\},\n",
    "$$"
   ]
  },
  {
   "cell_type": "code",
   "execution_count": 92,
   "id": "d7c89f0a",
   "metadata": {
    "ExecuteTime": {
     "end_time": "2023-12-30T00:18:50.116693Z",
     "start_time": "2023-12-30T00:18:50.092115Z"
    }
   },
   "outputs": [
    {
     "name": "stdout",
     "output_type": "stream",
     "text": [
      "(113,)\n"
     ]
    },
    {
     "data": {
      "text/plain": [
       "array([1, 1, 0, 0, 0, 0, 1, 0, 0, 0, 0, 1, 0, 0, 0, 0, 1, 0, 1, 0, 0, 0,\n",
       "       0, 0, 0, 0, 0, 0, 0, 0, 0, 0, 0, 0, 0, 1, 0, 0, 0, 0, 0, 0, 0, 0,\n",
       "       0, 0, 0, 0, 0, 0, 0, 0, 1, 0, 0, 0, 0, 0, 0, 0, 0, 0, 0, 0, 0, 0,\n",
       "       0, 0, 0, 0, 0, 1, 0, 0, 0, 0, 0, 0, 0, 0, 0, 0, 0, 0, 0, 0, 0, 0,\n",
       "       1, 0, 0, 0, 0, 0, 0, 0, 0, 0, 0, 0, 0, 0, 0, 0, 0, 0, 0, 0, 1, 0,\n",
       "       0, 0, 0])"
      ]
     },
     "execution_count": 92,
     "metadata": {},
     "output_type": "execute_result"
    }
   ],
   "source": [
    "x_triv = np.array([1])\n",
    "x_ohe_A = np.array([1, 0, 0, 0])\n",
    "x_ohe_C = np.array([0, 1, 0, 0])\n",
    "x_ohe_G = np.array([0, 0, 1, 0])\n",
    "x_ohe_T = np.array([0, 0, 0, 1])\n",
    "\n",
    "char_to_ohe_dict = {\n",
    "    'A':x_ohe_A,\n",
    "    'C':x_ohe_C,\n",
    "    'G':x_ohe_G,\n",
    "    'T':x_ohe_T\n",
    "}\n",
    "\n",
    "seq = 'ACGT'\n",
    "L = len(seq)\n",
    "\n",
    "x_components = []\n",
    "\n",
    "# Add in trivial component\n",
    "x_components.append(x_triv)\n",
    "\n",
    "# Add in single-position components\n",
    "for i in range(L):\n",
    "    c = seq[i]\n",
    "    x_l = char_to_ohe_dict[c]\n",
    "    x_components.append(x_l)\n",
    "\n",
    "# Add in two-position components\n",
    "for i1 in range(L-1):\n",
    "    c1 = seq[i1]\n",
    "    x_l1 = char_to_ohe_dict[c1]\n",
    "    for i2 in range(i1+1,L):\n",
    "        c2 = seq[i2]\n",
    "        x_l2 = char_to_ohe_dict[c2]\n",
    "        x_components.append(np.kron(x_l1,x_l2))\n",
    "\n",
    "# Create x\n",
    "x = np.concatenate(x_components)\n",
    "print(x.shape)\n",
    "x"
   ]
  },
  {
   "cell_type": "code",
   "execution_count": 93,
   "id": "080e1a43",
   "metadata": {
    "ExecuteTime": {
     "end_time": "2023-12-30T00:18:50.158660Z",
     "start_time": "2023-12-30T00:18:50.133536Z"
    }
   },
   "outputs": [
    {
     "name": "stdout",
     "output_type": "stream",
     "text": [
      "(113, 113)\n"
     ]
    },
    {
     "data": {
      "text/plain": [
       "<113x113 sparse matrix of type '<class 'numpy.int64'>'\n",
       "\twith 1001 stored elements in Compressed Sparse Row format>"
      ]
     },
     "execution_count": 93,
     "metadata": {},
     "output_type": "execute_result"
    }
   ],
   "source": [
    "# Trivial matrix\n",
    "T_triv = sp.csr_array([[1]])\n",
    "\n",
    "# ohe_to_block for single position\n",
    "T_ohe = sp.csr_array([\n",
    "    [1, 1, 1, 1],\n",
    "    [1, 0, 0, -1],\n",
    "    [0, 1, 0, -1],\n",
    "    [0, 0, 1, -1]\n",
    "])\n",
    "\n",
    "# Create list of diagonal matrices for pairwise model\n",
    "diag_mats = [T_triv] + int(L)*[T_ohe] + int(L*(L-1)/2)*[sp.kron(T_ohe, T_ohe)]\n",
    "\n",
    "# Compute matrix\n",
    "T = sp.block_diag(diag_mats, format='csr')\n",
    "print(T.shape)\n",
    "T"
   ]
  },
  {
   "cell_type": "code",
   "execution_count": 94,
   "id": "17ccedf3",
   "metadata": {
    "ExecuteTime": {
     "end_time": "2023-12-30T00:18:50.165960Z",
     "start_time": "2023-12-30T00:18:50.160778Z"
    }
   },
   "outputs": [
    {
     "data": {
      "text/plain": [
       "array([ 1,  1,  1,  0,  0,  1,  0,  1,  0,  1,  0,  0,  1,  1, -1, -1, -1,\n",
       "        1,  0,  1,  0,  1,  0,  1,  0,  0,  0,  0,  0,  0,  0,  0,  0,  1,\n",
       "        0,  0,  1,  1,  0,  0,  1,  0,  0,  0,  0,  0,  0,  0,  0,  1, -1,\n",
       "       -1, -1,  1, -1, -1, -1,  0,  0,  0,  0,  0,  0,  0,  0,  1,  0,  0,\n",
       "        1,  0,  0,  0,  0,  1,  0,  0,  1,  0,  0,  0,  0,  1, -1, -1, -1,\n",
       "        0,  0,  0,  0,  1, -1, -1, -1,  0,  0,  0,  0,  1, -1, -1, -1,  0,\n",
       "        0,  0,  0,  0,  0,  0,  0,  1, -1, -1, -1])"
      ]
     },
     "execution_count": 94,
     "metadata": {},
     "output_type": "execute_result"
    }
   ],
   "source": [
    "T@x"
   ]
  },
  {
   "cell_type": "code",
   "execution_count": 95,
   "id": "888eeefb",
   "metadata": {
    "ExecuteTime": {
     "end_time": "2023-12-30T00:18:50.364393Z",
     "start_time": "2023-12-30T00:18:50.169776Z"
    }
   },
   "outputs": [
    {
     "data": {
      "text/plain": [
       "<113x113 sparse matrix of type '<class 'numpy.int64'>'\n",
       "\twith 1001 stored elements in Compressed Sparse Row format>"
      ]
     },
     "execution_count": 95,
     "metadata": {},
     "output_type": "execute_result"
    },
    {
     "data": {
      "image/png": "[encoded data removed]",
      "text/plain": [
       "<Figure size 480x480 with 2 Axes>"
      ]
     },
     "metadata": {},
     "output_type": "display_data"
    }
   ],
   "source": [
    "if L <= 20:\n",
    "    plt.matshow(T.todense())\n",
    "    plt.colorbar()\n",
    "T"
   ]
  },
  {
   "cell_type": "code",
   "execution_count": 96,
   "id": "dd130641-7fbe-4637-9430-699f3b8c6edd",
   "metadata": {},
   "outputs": [
    {
     "data": {
      "text/plain": [
       "[['0', '4', '6'],\n",
       " ['0', '5', '6'],\n",
       " ['1', '4', '6'],\n",
       " ['1', '5', '6'],\n",
       " ['3', '4', '6'],\n",
       " ['3', '5', '6']]"
      ]
     },
     "execution_count": 96,
     "metadata": {},
     "output_type": "execute_result"
    }
   ],
   "source": [
    "def my_expand(x):\n",
    "    \"\"\"\n",
    "    Expands a list of lists. Simulates product expansion\n",
    "    \"\"\"\n",
    "    if len(x) >= 1:\n",
    "        a = x[0]\n",
    "        b = x[1:]\n",
    "        b_exp = my_expand(b)\n",
    "        c = [[y]+z for y in a for z in b_exp]        \n",
    "        return c\n",
    "    else:\n",
    "        return [x]\n",
    "\n",
    "my_expand([['0', '1', '3'], ['4','5'], ['6']])"
   ]
  },
  {
   "cell_type": "code",
   "execution_count": 97,
   "id": "4f8c880f-5bca-40ea-a497-b66033514b22",
   "metadata": {},
   "outputs": [
    {
     "data": {
      "text/plain": [
       "[['.'],\n",
       " [['.', '1']],\n",
       " [['.', '2']],\n",
       " [['.', '1'], ['.', '2']],\n",
       " [['.', '1'], ['.', '2'], ['.', '3']]]"
      ]
     },
     "execution_count": 97,
     "metadata": {},
     "output_type": "execute_result"
    }
   ],
   "source": [
    "# Want to expand a list of lists\n",
    "s = '.+1+2+1x2+1x2x3'\n",
    "a = s.split('+')\n",
    "a\n",
    "\n",
    "b = [z.split('x') for z in a]\n",
    "\n",
    "for i in range(len(b)):\n",
    "    for j in range(len(b[i])):\n",
    "        z = b[i][j]\n",
    "        if z!='.':\n",
    "            b[i][j]=['.',z]\n",
    "b"
   ]
  },
  {
   "cell_type": "code",
   "execution_count": 98,
   "id": "80a64e09-755d-46c1-b7a7-f16164def424",
   "metadata": {},
   "outputs": [
    {
     "data": {
      "text/plain": [
       "[['.'],\n",
       " ['.'],\n",
       " ['1'],\n",
       " ['.'],\n",
       " ['2'],\n",
       " ['.', '.'],\n",
       " ['.', '2'],\n",
       " ['1', '.'],\n",
       " ['1', '2'],\n",
       " ['.', '.', '.'],\n",
       " ['.', '.', '3'],\n",
       " ['.', '2', '.'],\n",
       " ['.', '2', '3'],\n",
       " ['1', '.', '.'],\n",
       " ['1', '.', '3'],\n",
       " ['1', '2', '.'],\n",
       " ['1', '2', '3']]"
      ]
     },
     "execution_count": 98,
     "metadata": {},
     "output_type": "execute_result"
    }
   ],
   "source": [
    "c = []\n",
    "for i, b_el in enumerate(b):\n",
    "    if isinstance(b_el, str):\n",
    "        c.append([b_el])\n",
    "    elif isinstance(b_el, list) and len(b_el)>=1:\n",
    "        c.extend(my_expand(b_el))\n",
    "c"
   ]
  },
  {
   "cell_type": "code",
   "execution_count": 99,
   "id": "1e0eb379-422e-4f64-aba2-98f97dac0c41",
   "metadata": {},
   "outputs": [
    {
     "data": {
      "text/plain": [
       "'.+.+1+.+2+.+2+1+1x2+.+3+2+2x3+1+1x3+1x2+1x2x3'"
      ]
     },
     "execution_count": 99,
     "metadata": {},
     "output_type": "execute_result"
    }
   ],
   "source": [
    "d = []\n",
    "for x in c:\n",
    "    y = [z for z in x if z!='.']\n",
    "    if len(y)==0:\n",
    "        y = ['.']\n",
    "    d.append('x'.join(y))\n",
    "'+'.join(d)"
   ]
  },
  {
   "cell_type": "code",
   "execution_count": 117,
   "id": "70cd85c0-b9fe-4509-bd2e-cc012d7c612f",
   "metadata": {},
   "outputs": [
    {
     "data": {
      "text/plain": [
       "'.+.+1+.+2+.+3+.+2+1+1x2+.+3+1+1x3+.+3+2+2x3'"
      ]
     },
     "execution_count": 117,
     "metadata": {},
     "output_type": "execute_result"
    }
   ],
   "source": [
    "def ohe_to_sim_spec_str(ohe_spec_str):\n",
    "    a = ohe_spec_str.split('+')\n",
    "    b = [z.split('x') for z in a]\n",
    "    for i in range(len(b)):\n",
    "        for j in range(len(b[i])):\n",
    "            z = b[i][j]\n",
    "            if z!='.':\n",
    "                b[i][j]=['.',z]\n",
    "    \n",
    "    # Recursive expansion\n",
    "    c = []\n",
    "    for i, b_el in enumerate(b):\n",
    "        if isinstance(b_el, str):\n",
    "            c.append([b_el])\n",
    "        elif isinstance(b_el, list) and len(b_el)>=1:\n",
    "            c.extend(my_expand(b_el))\n",
    "\n",
    "    # Remove redundant factors of '.'\n",
    "    sim_spec_list = []\n",
    "    for x in c:\n",
    "        y = [z for z in x if z!='.']\n",
    "        if len(y)==0:\n",
    "            y = ['.']\n",
    "        sim_spec_list.append(y)\n",
    "    sim_spec_str = '+'.join(['x'.join(z) for z in sim_spec_list])\n",
    "    return sim_spec_str\n",
    "\n",
    "# Test expansion\n",
    "expand_ohe_spec_str('.+1+2+3+1x2+1x3+2x3')"
   ]
  },
  {
   "cell_type": "code",
   "execution_count": 141,
   "id": "96f49908-0cbd-4505-8dd5-113accba4db9",
   "metadata": {},
   "outputs": [
    {
     "name": "stdout",
     "output_type": "stream",
     "text": [
      "61\n",
      "[('.', 1, 0), ('.', 1, 1), ('1', 3, 2), ('.', 1, 5), ('2', 3, 6), ('.', 1, 9), ('3', 3, 10), ('.', 1, 13), ('2', 3, 14), ('1', 3, 17), ('1x2', 9, 20), ('.', 1, 29), ('3', 3, 30), ('1', 3, 33), ('1x3', 9, 36), ('.', 1, 45), ('3', 3, 46), ('2', 3, 49), ('2x3', 9, 52)]\n"
     ]
    }
   ],
   "source": [
    "# Compute starting positions for each entry in the sim_spec_str\n",
    "def spec_str_to_list(s):\n",
    "    return [x.split('x') for x in s.split('+')]\n",
    "\n",
    "spec_list = spec_str_to_list('.+.+1+.+2+.+3+.+2+1+1x2+.+3+1+1x3+.+3+2+2x3')\n",
    "spec_list\n",
    "\n",
    "def get_shifts_and_sizes(spec_list, encoding_size):\n",
    "    \"\"\" inputs spec list. outputs a list of (spec, size, shift) \"\"\"\n",
    "    specs = []\n",
    "    shift = 0\n",
    "    for x in spec_list:\n",
    "        if len(x)==1 and x[0]=='.':\n",
    "            size = 1\n",
    "        else:\n",
    "            size = encoding_size**len(x)\n",
    "        specs.append(('x'.join(x),size,shift))\n",
    "        shift += size\n",
    "    M = shift\n",
    "    return specs, M\n",
    "\n",
    "specs, M = get_shifts_and_sizes(spec_list, encoding_size=3)\n",
    "print(M)\n",
    "print(specs)"
   ]
  },
  {
   "cell_type": "code",
   "execution_count": 223,
   "id": "8a4afab6-271a-4fd3-84f4-8bed7e32cd2a",
   "metadata": {},
   "outputs": [
    {
     "name": "stdout",
     "output_type": "stream",
     "text": [
      "ohe_spec_str: \".+1+2+3+4+1x2+2x3+3x4\"\n",
      "M: 65\n",
      "specs: [('.', 1, 0), ('1', 4, 1), ('2', 4, 5), ('3', 4, 9), ('4', 4, 13), ('1x2', 16, 17), ('2x3', 16, 33), ('3x4', 16, 49)]\n"
     ]
    }
   ],
   "source": [
    "# Test on ohe spec string\n",
    "ohe_spec_str = '.+1+2+3+4+1x2+2x3+3x4'\n",
    "print(f'ohe_spec_str: \"{ohe_spec_str}\"')\n",
    "spec_list = spec_str_to_list(ohe_spec_str)\n",
    "specs, M = get_shifts_and_sizes(spec_list, encoding_size=4)\n",
    "print('M:', M)\n",
    "print('specs:', specs)"
   ]
  },
  {
   "cell_type": "code",
   "execution_count": 224,
   "id": "9ae9932f-d3c6-4e62-9b2e-83092edfe9ef",
   "metadata": {},
   "outputs": [
    {
     "name": "stdout",
     "output_type": "stream",
     "text": [
      "sim_spec_str: \".+.+1+.+2+.+3+.+4+.+2+1+1x2+.+3+2+2x3+.+4+3+3x4\"\n",
      "M: 65\n",
      "specs: [('.', 1, 0), ('.', 1, 1), ('1', 3, 2), ('.', 1, 5), ('2', 3, 6), ('.', 1, 9), ('3', 3, 10), ('.', 1, 13), ('4', 3, 14), ('.', 1, 17), ('2', 3, 18), ('1', 3, 21), ('1x2', 9, 24), ('.', 1, 33), ('3', 3, 34), ('2', 3, 37), ('2x3', 9, 40), ('.', 1, 49), ('4', 3, 50), ('3', 3, 53), ('3x4', 9, 56)]\n"
     ]
    }
   ],
   "source": [
    "# Convert ohe spec string to sim spec string and test\n",
    "sim_spec_str = ohe_to_sim_spec_str(ohe_spec_str)\n",
    "print(f'sim_spec_str: \"{sim_spec_str}\"')\n",
    "spec_list = spec_str_to_list(sim_spec_str)\n",
    "specs, M = get_shifts_and_sizes(spec_list, encoding_size=3)\n",
    "print('M:', M)\n",
    "print('specs:', specs)"
   ]
  },
  {
   "cell_type": "code",
   "execution_count": 225,
   "id": "b3203339-97a1-428f-ae7b-28e8c2bfb2a5",
   "metadata": {},
   "outputs": [
    {
     "name": "stdout",
     "output_type": "stream",
     "text": [
      "diag_vecs: [[1, 1, 1, 1, 1, 1, 1, 1, 1, 1, 1, 1, 1, 1, 1, 1, 1, 1, 1, 1, 1, 1, 1, 1, 1, 1, 1, 1, 1, 1, 1, 1, 1, 1, 1, 1, 1, 1, 1, 1, 1, 1, 1, 1, 1, 1, 1, 1, 1, 1, 1, 1, 1, 1, 1, 1, 1, 1, 1, 1, 1, 1, 1, 1, 1], [-1, 0, 0, 0, 0, 0, 0, 0, 0, 0, 0, 0, 0, 0, 0, 0, 0, 0, 0, 0, 0, 0, 0, 0, 0, 0, 0, 0, 0, 0, 0, 0, 0, 0, 0, 0, 0, 0, 0, 0, 0, 0, 0, 0, 0, 0, 0, 0, 0, 0, 0, 0, 0, 0, 0, 0, 0, 0, 0, 0, 0, 0, 0, 0], [-1, 0, 0, 0, 0, 0, 0, 0, 0, 0, 0, 0, 0, 0, 0, 0, 0, 0, 0, 0, 0, 0, 0, 0, 0, 0, 0, 0, 0, 0, 0, 0, 0, 0, 0, 0, 0, 0, 0, 0, 0, 0, 0, 0, 0, 0, 0, 0, 0, 0, 0, 0, 0, 0, 0, 0, 0, 0, 0, 0], [-1, 0, 0, 0, 0, 0, 0, 0, 0, 0, 0, 0, 0, 0, 0, 0, 0, 0, 0, 0, 0, 0, 0, 0, 0, 0, 0, 0, 0, 0, 0, 0, 0, 0, 0, 0, 0, 0, 0, 0, 0, 0, 0, 0, 0, 0, 0, 0, 0, 0, 0, 0, 0, 0, 0, 0], [-1, 0, 0, 0, 0, 0, 0, 0, 0, 0, 0, 0, 0, 0, 0, 0, 0, 0, 0, 0, 0, 0, 0, 0, 0, 0, 0, 0, 0, 0, 0, 0, 0, 0, 0, 0, 0, 0, 0, 0, 0, 0, 0, 0, 0, 0, 0, 0, 0, 0, 0, 0], [-1, 0, 0, 0, 0, 0, 0, 0, 0, 0, 0, 0, 0, 0, 0, 0, 0, 0, 0, 0, 0, 0, 0, 0, 0, 0, 0, 0, 0, 0, 0, 0, 0, 0, 0, 0, 0, 0, 0, 0, 0, 0, 0, 0, 0, 0, 0, 0], [0, 0, 0, 0, 0, 0, -1, -1, -1, 0, 0, 0, 0, 0, 0, 0, 0, 0, 0, 0, 0, 0, 0, 0, 0, 0, 0, 0, 0, 0, 0, 0, 0, 0, 0, 0, 0, 0, 0, 0, 0, 0, 0, 0, 0, 0, 0, 0, 0, 0, 0, 0, 0], [0, 0, -1, -1, -1, 0, 0, 0, 0, 0, 0, 0, 0, 0, 0, 0, 0, 0, 0, 0, 0, 0, 0, 0, 0, 0, 0, 0, 0, 0, 0, 0, 0, 0, 0, 0, 0, 0, 0, 0, 0, 0, 0, 0, 0, 0], [-1, 0, 0, 0, 0, 0, 0, 0, 0, 0, 0, 0, 0, 0, 0, 0, 0, 0, 0, 0, 0, 0, 0, 0, 0, 0, 0, 0, 0, 0, 0, 0], [0, 0, 0, 0, 0, 0, 0, 0, 0, 0, -1, -1, -1, 0, 0, 0, 0, 0, 0, 0, 0, 0, 0, 0, 0, 0, 0, 0, 0, 0, 0, 0, 0, 0, 0, 0, 0, 0, 0, 0, 0], [0, 0, 0, 0, 0, 0, -1, -1, -1, 0, 0, 0, 0, 0, 0, 0, 0, 0, 0, 0, 0, 0, 0, 0, 0, 0, 0, 0, 0, 0, 0, 0, 0, 0], [-1, 0, 0, 0, 0, 0, 0, 0, 0, 0, 0, 0, 0, 0, 0, 0], [0, 0, 0, 0, 0, 0, 0, 0, 0, 0, 0, 0, 0, 0, -1, -1, -1, 0, 0, 0, 0, 0, 0, 0, 0, 0, 0, 0, 0], [0, 0, 0, 0, 0, 0, 0, 0, 0, 0, -1, -1, -1, 0, 0, 0, 0, 0, 0, 0, 0, 0]]\n",
      "diag_offsets: [0, -1, -5, -9, -13, -17, -12, -19, -33, -24, -31, -49, -36, -43]\n"
     ]
    }
   ],
   "source": [
    "# Build zeroing-out matrix\n",
    "component_dict = {}\n",
    "diag_vecs = []\n",
    "inv_diag_vecs = []\n",
    "diag_offsets = []\n",
    "\n",
    "# Add in main diagonal\n",
    "diag_vecs.append(M*[1])\n",
    "inv_diag_vecs.append(M*[1])\n",
    "diag_offsets.append(0)\n",
    "for spec in specs:\n",
    "    key = spec[0]\n",
    "    m = spec[1]\n",
    "    offset = spec[2]\n",
    "    if key not in component_dict:\n",
    "        component_dict[key] = (m,offset)\n",
    "    else:\n",
    "        m1, offset1 = component_dict[key]\n",
    "        try:\n",
    "            assert m1==m\n",
    "        except:\n",
    "            print('m1:', m1)\n",
    "            print('m:', m)\n",
    "            pdb.set_trace()\n",
    "        diag_vec = offset1*[0]+m*[-1]+(M-(offset+m))*[0]\n",
    "        inv_diag_vec = offset1*[0]+m*[1]+(M-(offset+m))*[0]\n",
    "        diag_offset = -(offset-offset1)\n",
    "        diag_vecs.append(diag_vec)\n",
    "        inv_diag_vecs.append(inv_diag_vec)\n",
    "        diag_offsets.append(diag_offset)\n",
    "\n",
    "print('diag_vecs:', diag_vecs)\n",
    "print('diag_offsets:', diag_offsets)"
   ]
  },
  {
   "cell_type": "code",
   "execution_count": 243,
   "id": "87bb70cb-96ef-4f3d-92f3-a21df5d485b6",
   "metadata": {},
   "outputs": [
    {
     "data": {
      "text/plain": [
       "65"
      ]
     },
     "execution_count": 243,
     "metadata": {},
     "output_type": "execute_result"
    }
   ],
   "source": [
    "# Copy dictionary, adding a counter\n",
    "component_dict2 = {}\n",
    "counter = 1\n",
    "for key, value in component_dict.items():\n",
    "    m, offset = value\n",
    "    r = .1+.9*counter/len(component_dict)\n",
    "    component_dict2[key] = (m, offset, r)\n",
    "    counter+=1\n",
    "    \n",
    "x_test = np.zeros(M)\n",
    "for spec in specs:\n",
    "    key, m, offset = spec\n",
    "    _, _, r = component_dict2[key]\n",
    "    x_test[offset:offset+m]=r\n",
    "\n",
    "len(x_test)"
   ]
  },
  {
   "cell_type": "code",
   "execution_count": 244,
   "id": "af9a0591-fe0f-4e32-ac61-56f3d912f3cc",
   "metadata": {},
   "outputs": [
    {
     "name": "stdout",
     "output_type": "stream",
     "text": [
      ".+.+1+.+2+.+3+.+4+.+2+1+1x2+.+3+2+2x3+.+4+3+3x4\n"
     ]
    },
    {
     "data": {
      "image/png": "[encoded data removed]",
      "text/plain": [
       "<Figure size 480x480 with 1 Axes>"
      ]
     },
     "metadata": {},
     "output_type": "display_data"
    }
   ],
   "source": [
    "A = sp.diags(diag_vecs, diag_offsets)\n",
    "plt.matshow(A.todense(), vmin=-1, vmax=1)\n",
    "print(sim_spec_str)"
   ]
  },
  {
   "cell_type": "code",
   "execution_count": 245,
   "id": "793f6fec-5703-40c8-81ab-d81644822ade",
   "metadata": {},
   "outputs": [
    {
     "name": "stdout",
     "output_type": "stream",
     "text": [
      ".+.+1+.+2+.+3+.+4+.+2+1+1x2+.+3+2+2x3+.+4+3+3x4\n"
     ]
    },
    {
     "data": {
      "image/png": "[encoded data removed]",
      "text/plain": [
       "<Figure size 480x480 with 1 Axes>"
      ]
     },
     "metadata": {},
     "output_type": "display_data"
    }
   ],
   "source": [
    "A_inv = sp.diags(inv_diag_vecs, diag_offsets)\n",
    "plt.matshow(A_inv.todense(), vmin=-1, vmax=1)\n",
    "print(sim_spec_str)"
   ]
  },
  {
   "cell_type": "code",
   "execution_count": 246,
   "id": "77e24f36-1e75-4449-bf49-d83502be4c7f",
   "metadata": {},
   "outputs": [
    {
     "name": "stdout",
     "output_type": "stream",
     "text": [
      ".+.+1+.+2+.+3+.+4+.+2+1+1x2+.+3+2+2x3+.+4+3+3x4\n"
     ]
    },
    {
     "data": {
      "image/png": "[encoded data removed]",
      "text/plain": [
       "<Figure size 480x480 with 1 Axes>"
      ]
     },
     "metadata": {},
     "output_type": "display_data"
    }
   ],
   "source": [
    "I = A@A_inv\n",
    "plt.matshow(I.todense(), vmin=-1, vmax=1)\n",
    "print(sim_spec_str)"
   ]
  },
  {
   "cell_type": "code",
   "execution_count": 247,
   "id": "f8e71c4e-cd0d-4e26-9cac-57647079d939",
   "metadata": {},
   "outputs": [
    {
     "data": {
      "text/plain": [
       "<matplotlib.colorbar.Colorbar at 0x16247ba90>"
      ]
     },
     "execution_count": 247,
     "metadata": {},
     "output_type": "execute_result"
    },
    {
     "data": {
      "image/png": "[encoded data removed]",
      "text/plain": [
       "<Figure size 1600x200 with 2 Axes>"
      ]
     },
     "metadata": {},
     "output_type": "display_data"
    }
   ],
   "source": [
    "plt.matshow(x_test.reshape([M,1]).T, vmin=0, vmax=1, cmap='jet')\n",
    "plt.colorbar()"
   ]
  },
  {
   "cell_type": "code",
   "execution_count": 248,
   "id": "9d00134f-31d5-48b8-bc07-472915f12910",
   "metadata": {},
   "outputs": [
    {
     "data": {
      "text/plain": [
       "<matplotlib.colorbar.Colorbar at 0x1625285d0>"
      ]
     },
     "execution_count": 248,
     "metadata": {},
     "output_type": "execute_result"
    },
    {
     "data": {
      "image/png": "[encoded data removed]",
      "text/plain": [
       "<Figure size 1600x200 with 2 Axes>"
      ]
     },
     "metadata": {},
     "output_type": "display_data"
    }
   ],
   "source": [
    "x_dist = A*x_test\n",
    "plt.matshow(x_dist.reshape([M,1]).T, vmin=0, vmax=1, cmap='jet')\n",
    "plt.colorbar()"
   ]
  },
  {
   "cell_type": "code",
   "execution_count": 249,
   "id": "19de4d03-789d-4cb2-a61c-9f279e4414d7",
   "metadata": {},
   "outputs": [
    {
     "data": {
      "text/plain": [
       "<matplotlib.colorbar.Colorbar at 0x1623933d0>"
      ]
     },
     "execution_count": 249,
     "metadata": {},
     "output_type": "execute_result"
    },
    {
     "data": {
      "image/png": "[encoded data removed]",
      "text/plain": [
       "<Figure size 1600x200 with 2 Axes>"
      ]
     },
     "metadata": {},
     "output_type": "display_data"
    }
   ],
   "source": [
    "x_test2 = A_inv@x_dist\n",
    "plt.matshow(x_test2.reshape([M,1]).T, vmin=0, vmax=1, cmap='jet')\n",
    "plt.colorbar()"
   ]
  },
  {
   "cell_type": "code",
   "execution_count": 313,
   "id": "84204eac-11e5-49a9-8682-d9c205a4d2c7",
   "metadata": {},
   "outputs": [
    {
     "name": "stdout",
     "output_type": "stream",
     "text": [
      "L_to_spec_str_constant(): \".\"\n",
      "L_to_spec_str_additive(L=4): \".+0+1+2+3\"\n",
      "L_to_spec_str_neighbor(L=4): \".+0+1+2+3+0x1+1x2+2x3\"\n",
      "L_to_spec_str_pairwise(L=4): \".+0+1+2+3+0x1+0x2+0x3+1x2+1x3+2x3\"\n",
      "L_to_spec_str_3adjacent(L=4): \".+0+1+2+3+0x1+1x2+2x3+0x1x2+1x2x3\"\n",
      "L_to_spec_str_3order(L=4): \".+0+1+2+3+0x1+0x2+0x3+1x2+1x3+2x3+0x1x2+0x1x3+0x2x3+1x2x3\"\n"
     ]
    }
   ],
   "source": [
    "###\n",
    "### Start again from here\n",
    "###\n",
    "\n",
    "L = 4\n",
    "\n",
    "def L_to_spec_str_constant():\n",
    "    return '.'\n",
    "print(f'L_to_spec_str_constant(): \"{L_to_spec_str_constant()}\"')\n",
    "\n",
    "def L_to_spec_str_additive(L):\n",
    "    parts = []\n",
    "    parts.append(L_to_spec_str_constant())\n",
    "    for i in range(L):\n",
    "        parts.append(f'{i:d}')\n",
    "    return '+'.join(parts)\n",
    "print(f'L_to_spec_str_additive(L={L}): \"{L_to_spec_str_additive(L=L)}\"')\n",
    "\n",
    "def L_to_spec_str_neighbor(L):\n",
    "    parts = []\n",
    "    parts.append(L_to_spec_str_additive(L))\n",
    "    for i in range(L-1):\n",
    "        parts.append(f'{i:d}x{i+1:d}')\n",
    "    return '+'.join(parts)\n",
    "print(f'L_to_spec_str_neighbor(L={L}): \"{L_to_spec_str_neighbor(L=L)}\"')\n",
    "\n",
    "def L_to_spec_str_pairwise(L):\n",
    "    parts = []\n",
    "    parts.append(L_to_spec_str_additive(L))\n",
    "    for i in range(L-1):\n",
    "        for j in range(i+1,L):\n",
    "            parts.append(f'{i:d}x{j:d}')\n",
    "    return '+'.join(parts)\n",
    "print(f'L_to_spec_str_pairwise(L={L}): \"{L_to_spec_str_pairwise(L=L)}\"')\n",
    "\n",
    "def L_to_spec_str_3adjacent(L):\n",
    "    parts = []\n",
    "    parts.append(L_to_spec_str_neighbor(L))\n",
    "    for i in range(L-2):\n",
    "        parts.append(f'{i:d}x{i+1:d}x{i+2}')\n",
    "    return '+'.join(parts)\n",
    "print(f'L_to_spec_str_3adjacent(L={L}): \"{L_to_spec_str_3adjacent(L=L)}\"')\n",
    "\n",
    "def L_to_spec_str_3order(L):\n",
    "    parts = []\n",
    "    parts.append(L_to_spec_str_pairwise(L))\n",
    "    for i in range(L-2):\n",
    "        for j in range(i+1,L-1):\n",
    "            for k in range(j+1,L):\n",
    "                parts.append(f'{i:d}x{j:d}x{k:d}')\n",
    "    return '+'.join(parts)\n",
    "print(f'L_to_spec_str_3order(L={L}): \"{L_to_spec_str_3order(L=L)}\"')\n"
   ]
  },
  {
   "cell_type": "code",
   "execution_count": 312,
   "id": "de8b5f08-4b2c-46e9-9112-c225bab90218",
   "metadata": {},
   "outputs": [
    {
     "name": "stdout",
     "output_type": "stream",
     "text": [
      "M: 361\n",
      "ohe_spec_str: .+0+1+2+3+4+5+0x1+1x2+2x3+3x4+4x5+0x1x2+1x2x3+2x3x4+3x4x5\n",
      "x:  [1 1 0 0 0 0 1 0 0 0 0 1 0 0 0 0 1 1 0 0 0 1 0 0 0 0 0 0 0 1 0 0 0 0 0 0 0\n",
      " 0 0 0 0 0 0 0 0 0 0 0 0 0 1 0 0 0 0 0 0 0 0 0 0 0 0 0 0 0 0 0 0 0 0 1 0 0\n",
      " 0 0 1 0 0 0 0 0 0 0 0 0 0 0 0 1 0 0 0 0 0 0 0 0 0 0 0 0 0 0 0 0 0 0 0 0 0\n",
      " 0 0 0 0 0 0 0 0 0 0 0 0 0 0 0 0 0 0 0 0 0 0 0 0 0 0 0 0 0 0 1 0 0 0 0 0 0\n",
      " 0 0 0 0 0 0 0 0 0 0 0 0 0 0 0 0 0 0 0 0 0 0 0 0 0 0 0 0 0 0 0 0 0 0 0 0 0\n",
      " 0 0 0 0 0 0 0 0 0 0 0 0 0 0 0 0 0 0 0 0 0 0 0 0 0 0 0 0 0 0 0 0 0 0 0 0 0\n",
      " 0 0 0 0 1 0 0 0 0 0 0 0 0 0 0 0 0 0 0 0 0 0 0 0 0 1 0 0 0 0 0 0 0 0 0 0 0\n",
      " 0 0 0 0 0 0 0 0 0 0 0 0 0 0 0 0 0 0 0 0 0 0 0 0 0 0 0 0 0 0 0 0 0 0 0 0 0\n",
      " 0 0 0 0 1 0 0 0 0 0 0 0 0 0 0 0 0 0 0 0 0 0 0 0 0 0 0 0 0 0 0 0 0 0 0 0 0\n",
      " 0 0 0 0 0 0 0 0 0 0 0 0 0 0 0 0 0 0 0 0 0 0 0 0 0 0 0 0]\n"
     ]
    }
   ],
   "source": [
    "# Create function to make ohe encoding from ohe_spec_string\n",
    "def seq_to_x(seq, ohe_spec_str):\n",
    "    '''Given a DNA seq and an ohe_spec_str, returns a one-hot encoding x'''\n",
    "    L = len(seq)\n",
    "    x_components = []\n",
    "    \n",
    "    ohe_spec_str_parts = ohe_spec_str.split('+')\n",
    "    for part in ohe_spec_str_parts:\n",
    "        \n",
    "        # Add in trivial component\n",
    "        if part=='.':\n",
    "            x_components.append(x_triv)\n",
    "        else:\n",
    "            positions = [int(p) for p in part.split('x')]\n",
    "            assert len(positions) > 0\n",
    "            x_irr = x_triv\n",
    "            while len(positions) > 0:\n",
    "                pos = positions.pop()\n",
    "                c = seq[pos]\n",
    "                x_l = char_to_ohe_dict[c]\n",
    "                x_irr = np.kron(x_irr, x_l)\n",
    "            x_components.append(x_irr)\n",
    "    \n",
    "    # Create x\n",
    "    x = np.concatenate(x_components)\n",
    "    return x\n",
    "\n",
    "# Test seq_to_x_neighbor\n",
    "seq = 'ACGTAA'\n",
    "L = len(seq)\n",
    "ohe_spec_str = L_to_spec_str_3adj(L)\n",
    "x = seq_to_x(seq, ohe_spec_str)\n",
    "print('M:', len(x))\n",
    "print('ohe_spec_str:', ohe_spec_str)\n",
    "print('x: ', x)"
   ]
  },
  {
   "cell_type": "code",
   "execution_count": 307,
   "id": "ebdf740c-f365-4143-94e4-e1ed90151bf1",
   "metadata": {},
   "outputs": [
    {
     "data": {
      "text/plain": [
       "<113x113 sparse matrix of type '<class 'numpy.int64'>'\n",
       "\twith 1601 stored elements in Compressed Sparse Row format>"
      ]
     },
     "execution_count": 307,
     "metadata": {},
     "output_type": "execute_result"
    },
    {
     "data": {
      "image/png": "[encoded data removed]",
      "text/plain": [
       "<Figure size 480x480 with 2 Axes>"
      ]
     },
     "metadata": {},
     "output_type": "display_data"
    }
   ],
   "source": [
    "def ohe_spec_str_to_T(ohe_spec_str):\n",
    "\n",
    "    # Trivial matrix\n",
    "    T_triv = sp.csr_array([[1]])\n",
    "\n",
    "    # ohe_to_block for single position\n",
    "    T_ohe = sp.csr_array([\n",
    "        [1, 1, 1, 1],\n",
    "        [1, 0, 0, -1],\n",
    "        [0, 1, 0, -1],\n",
    "        [0, 0, 1, -1]\n",
    "    ])\n",
    "\n",
    "    diag_mats = []\n",
    "    \n",
    "    parts = ohe_spec_str.split('+')\n",
    "    for part in parts:\n",
    "        if part == '.':\n",
    "            T_part = T_triv\n",
    "        else:\n",
    "            bits = part.split('x')\n",
    "            T_part = T_triv\n",
    "            for bit in part.split('x'):\n",
    "                T_part = sp.kron(T_part, T_ohe)\n",
    "        diag_mats.append(T_part)\n",
    "    T = sp.block_diag(diag_mats, format='csr')\n",
    "    return T\n",
    "\n",
    "# Test ohe_spec_str_to_T\n",
    "T = ohe_spec_str_to_T(ohe_spec_str)\n",
    "plt.matshow(T.todense())\n",
    "plt.colorbar()\n",
    "T"
   ]
  },
  {
   "cell_type": "code",
   "execution_count": 308,
   "id": "fda7dcff-d981-49f0-9ea2-a76983393d9e",
   "metadata": {},
   "outputs": [
    {
     "ename": "ValueError",
     "evalue": "dimension mismatch",
     "output_type": "error",
     "traceback": [
      "\u001b[0;31m---------------------------------------------------------------------------\u001b[0m",
      "\u001b[0;31mValueError\u001b[0m                                Traceback (most recent call last)",
      "Cell \u001b[0;32mIn[308], line 3\u001b[0m\n\u001b[1;32m      1\u001b[0m fig, axs \u001b[38;5;241m=\u001b[39m plt\u001b[38;5;241m.\u001b[39msubplots(\u001b[38;5;241m2\u001b[39m,\u001b[38;5;241m1\u001b[39m,figsize\u001b[38;5;241m=\u001b[39m[\u001b[38;5;241m10\u001b[39m,\u001b[38;5;241m2\u001b[39m])\n\u001b[0;32m----> 3\u001b[0m x_trans \u001b[38;5;241m=\u001b[39m A\u001b[38;5;129m@T\u001b[39m\u001b[38;5;129m@x\u001b[39m\n\u001b[1;32m      4\u001b[0m x_dist \u001b[38;5;241m=\u001b[39m A\u001b[38;5;129m@x_test\u001b[39m\n\u001b[1;32m      6\u001b[0m ax \u001b[38;5;241m=\u001b[39m axs[\u001b[38;5;241m0\u001b[39m]\n",
      "File \u001b[0;32m~/anaconda3/lib/python3.11/site-packages/scipy/sparse/_base.py:624\u001b[0m, in \u001b[0;36m_spbase.__matmul__\u001b[0;34m(self, other)\u001b[0m\n\u001b[1;32m    621\u001b[0m \u001b[38;5;28;01mif\u001b[39;00m isscalarlike(other):\n\u001b[1;32m    622\u001b[0m     \u001b[38;5;28;01mraise\u001b[39;00m \u001b[38;5;167;01mValueError\u001b[39;00m(\u001b[38;5;124m\"\u001b[39m\u001b[38;5;124mScalar operands are not allowed, \u001b[39m\u001b[38;5;124m\"\u001b[39m\n\u001b[1;32m    623\u001b[0m                      \u001b[38;5;124m\"\u001b[39m\u001b[38;5;124muse \u001b[39m\u001b[38;5;124m'\u001b[39m\u001b[38;5;124m*\u001b[39m\u001b[38;5;124m'\u001b[39m\u001b[38;5;124m instead\u001b[39m\u001b[38;5;124m\"\u001b[39m)\n\u001b[0;32m--> 624\u001b[0m \u001b[38;5;28;01mreturn\u001b[39;00m \u001b[38;5;28mself\u001b[39m\u001b[38;5;241m.\u001b[39m_mul_dispatch(other)\n",
      "File \u001b[0;32m~/anaconda3/lib/python3.11/site-packages/scipy/sparse/_base.py:534\u001b[0m, in \u001b[0;36m_spbase._mul_dispatch\u001b[0;34m(self, other)\u001b[0m\n\u001b[1;32m    532\u001b[0m \u001b[38;5;28;01mif\u001b[39;00m issparse(other):\n\u001b[1;32m    533\u001b[0m     \u001b[38;5;28;01mif\u001b[39;00m \u001b[38;5;28mself\u001b[39m\u001b[38;5;241m.\u001b[39mshape[\u001b[38;5;241m1\u001b[39m] \u001b[38;5;241m!=\u001b[39m other\u001b[38;5;241m.\u001b[39mshape[\u001b[38;5;241m0\u001b[39m]:\n\u001b[0;32m--> 534\u001b[0m         \u001b[38;5;28;01mraise\u001b[39;00m \u001b[38;5;167;01mValueError\u001b[39;00m(\u001b[38;5;124m'\u001b[39m\u001b[38;5;124mdimension mismatch\u001b[39m\u001b[38;5;124m'\u001b[39m)\n\u001b[1;32m    535\u001b[0m     \u001b[38;5;28;01mreturn\u001b[39;00m \u001b[38;5;28mself\u001b[39m\u001b[38;5;241m.\u001b[39m_mul_sparse_matrix(other)\n\u001b[1;32m    537\u001b[0m \u001b[38;5;66;03m# If it's a list or whatever, treat it like an array\u001b[39;00m\n",
      "\u001b[0;31mValueError\u001b[0m: dimension mismatch"
     ]
    },
    {
     "data": {
      "image/png": "[encoded data removed]",
      "text/plain": [
       "<Figure size 1000x200 with 2 Axes>"
      ]
     },
     "metadata": {},
     "output_type": "display_data"
    }
   ],
   "source": [
    "fig, axs = plt.subplots(2,1,figsize=[10,2])\n",
    "\n",
    "x_trans = A@T@x\n",
    "x_dist = A@x_test\n",
    "\n",
    "ax = axs[0]\n",
    "ax.matshow(x_trans.reshape([M,1]).T, vmin=-1, vmax=1, cmap='jet')\n",
    "ax.set_yticks([])\n",
    "#ax.colorbar()\n",
    "\n",
    "ax = axs[1]\n",
    "ax.matshow(x_dist.reshape([M,1]).T, vmin=-1, vmax=1, cmap='jet')\n",
    "ax.set_yticks([])\n",
    "#ax.set_colorbar()"
   ]
  },
  {
   "cell_type": "code",
   "execution_count": null,
   "id": "a32691d9-597f-46c8-8f31-a96b8c4688dd",
   "metadata": {},
   "outputs": [],
   "source": []
  }
 ],
 "metadata": {
  "kernelspec": {
   "display_name": "base",
   "language": "python",
   "name": "base"
  },
  "language_info": {
   "codemirror_mode": {
    "name": "ipython",
    "version": 3
   },
   "file_extension": ".py",
   "mimetype": "text/x-python",
   "name": "python",
   "nbconvert_exporter": "python",
   "pygments_lexer": "ipython3",
   "version": "3.11.5"
  },
  "varInspector": {
   "cols": {
    "lenName": 16,
    "lenType": 16,
    "lenVar": 40
   },
   "kernels_config": {
    "python": {
     "delete_cmd_postfix": "",
     "delete_cmd_prefix": "del ",
     "library": "var_list.py",
     "varRefreshCmd": "print(var_dic_list())"
    },
    "r": {
     "delete_cmd_postfix": ") ",
     "delete_cmd_prefix": "rm(",
     "library": "var_list.r",
     "varRefreshCmd": "cat(var_dic_list()) "
    }
   },
   "types_to_exclude": [
    "module",
    "function",
    "builtin_function_or_method",
    "instance",
    "_Feature"
   ],
   "window_display": false
  }
 },
 "nbformat": 4,
 "nbformat_minor": 5
}
