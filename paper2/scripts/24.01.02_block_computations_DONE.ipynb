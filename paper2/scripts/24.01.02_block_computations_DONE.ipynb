{
 "cells": [
  {
   "cell_type": "code",
   "execution_count": 1,
   "id": "f2f25ac7-bfb8-4ced-bb07-14919366a574",
   "metadata": {},
   "outputs": [],
   "source": [
    "# Goal for the notebook: Get the block computations of x_sim and T working\n",
    "import numpy as np\n",
    "import matplotlib.pyplot as plt\n",
    "import scipy.sparse as sp"
   ]
  },
  {
   "cell_type": "code",
   "execution_count": 2,
   "id": "f40de643-a641-439b-b955-d998250ac9ee",
   "metadata": {},
   "outputs": [],
   "source": [
    "### Define and test seq_to_x function\n",
    "x_triv = np.array([1])\n",
    "x_ohe_A = np.array([1, 0, 0, 0])\n",
    "x_ohe_C = np.array([0, 1, 0, 0])\n",
    "x_ohe_G = np.array([0, 0, 1, 0])\n",
    "x_ohe_T = np.array([0, 0, 0, 1])\n",
    "\n",
    "char_to_ohe_dict = {\n",
    "    'A':x_ohe_A,\n",
    "    'C':x_ohe_C,\n",
    "    'G':x_ohe_G,\n",
    "    'T':x_ohe_T\n",
    "}\n",
    "\n",
    "def seq_to_x(seq, ohe_spec_str):\n",
    "    '''\n",
    "    inputs: seq (DNA), ohe_spec_str\n",
    "    returns: x, a one-hot encoding\n",
    "    '''\n",
    "    L = len(seq)\n",
    "    x_components = []\n",
    "    \n",
    "    ohe_spec_str_parts = ohe_spec_str.split('+')\n",
    "    for part in ohe_spec_str_parts:\n",
    "        \n",
    "        # Add in trivial component\n",
    "        if part=='.':\n",
    "            x_components.append(x_triv)\n",
    "        else:\n",
    "            positions = [int(p) for p in part.split('x')]\n",
    "            assert len(positions) > 0\n",
    "            x_irr = x_triv\n",
    "            while len(positions) > 0:\n",
    "                pos = positions.pop(-1)\n",
    "                c = seq[pos]\n",
    "                x_l = char_to_ohe_dict[c]\n",
    "                x_irr = np.kron(x_irr, x_l)\n",
    "            x_components.append(x_irr)\n",
    "    \n",
    "    # Create x\n",
    "    x = np.concatenate(x_components)\n",
    "    return x"
   ]
  },
  {
   "cell_type": "code",
   "execution_count": 3,
   "id": "b47fc947-09c3-45c7-b1eb-517c82f5bf90",
   "metadata": {},
   "outputs": [],
   "source": [
    "### Define and test ohe_spec_to_T function\n",
    "\n",
    "# Trivial matrix\n",
    "T_triv = sp.csr_array([[1]])\n",
    "\n",
    "# ohe_to_block for single position\n",
    "T_ohe = sp.csr_array([\n",
    "    [1, 1, 1, 1],\n",
    "    [1, 0, 0, -1],\n",
    "    [0, 1, 0, -1],\n",
    "    [0, 0, 1, -1]\n",
    "])\n",
    "T_ohe_inv = sp.csr_matrix(np.linalg.inv(T_ohe.todense()))\n",
    "\n",
    "alpha = 4\n",
    "import pdb\n",
    "def ohe_spec_to_T(ohe_spec_str):\n",
    "    '''\n",
    "    input: ohe_spec_str\n",
    "    output: T (s.t. T x = x_factored)\n",
    "    '''\n",
    "    parts = ohe_spec_str.split('+')\n",
    "    diag_mats = []\n",
    "    diag_mats_inv = []\n",
    "    for part in parts:\n",
    "        if part == '.':\n",
    "            T_part = T_triv\n",
    "            T_part_inv = T_triv\n",
    "        else:\n",
    "            bits = part.split('x')\n",
    "            T_part = T_triv\n",
    "            T_part_inv = T_triv\n",
    "            for bit in part.split('x'):\n",
    "                m = T_part.shape[0]\n",
    "\n",
    "                # Compute kronecker product\n",
    "                T_part = sp.kron(T_part, T_ohe)\n",
    "                T_part_inv = sp.kron(T_ohe_inv,T_part_inv)\n",
    "        diag_mats.append(T_part)\n",
    "        diag_mats_inv.append(T_part_inv)\n",
    "    T = sp.block_diag(diag_mats, format='csr')\n",
    "    T_inv = sp.block_diag(diag_mats_inv, format='csr')\n",
    "    return T, T_inv"
   ]
  },
  {
   "cell_type": "code",
   "execution_count": 4,
   "id": "bb4c6127-249d-403d-8723-11c249110ffa",
   "metadata": {},
   "outputs": [],
   "source": [
    "### Define and test ohe_spec_to_T function\n",
    "\n",
    "alpha=4\n",
    "I_triv = np.eye(1, dtype=np.int64)\n",
    "I_ohe = np.eye(alpha, dtype=np.int64)\n",
    "import pdb\n",
    "def ohe_spec_to_B(ohe_spec_str):\n",
    "    '''\n",
    "    input: ohe_spec_str\n",
    "    output: T (s.t. T x = x_factored)\n",
    "    '''\n",
    "    parts = ohe_spec_str.split('+')\n",
    "    diag_mats = []\n",
    "    diag_mats_inv = []\n",
    "    for part in parts:\n",
    "        if part == '.':\n",
    "            B_part = I_triv\n",
    "            B_part_inv = I_triv\n",
    "        else:\n",
    "            bits = part.split('x')\n",
    "            B_part = I_triv\n",
    "            B_part_inv = I_triv\n",
    "            for bit in part.split('x'):\n",
    "                m = B_part.shape[0]\n",
    "\n",
    "                # Compute kronecker product\n",
    "                B_part = sp.kron(B_part, I_ohe)\n",
    "                B_part_inv = sp.kron(B_part_inv, I_ohe)\n",
    "\n",
    "                # Fix up row orderd (# Is this where this goes?)\n",
    "                i_vals = list(range(m*alpha))\n",
    "                j_vals = [alpha*i for i in range(m)] + [i-m+1+(i-m)//(alpha-1) for i in range(m,m*alpha)]\n",
    "                data = m*alpha*[1]\n",
    "                new_B = sp.coo_array((data, (i_vals, j_vals)), shape=(alpha*m,alpha*m)).tocsr()\n",
    "                B_part = new_B@B_part\n",
    "                #pdb.set_trace()\n",
    "                B_part_inv = B_part_inv@(new_B.T)\n",
    "        diag_mats.append(B_part)\n",
    "        diag_mats_inv.append(B_part_inv)\n",
    "    B = sp.block_diag(diag_mats, format='csr')\n",
    "    B_inv = sp.block_diag(diag_mats_inv, format='csr')\n",
    "    return B, B_inv"
   ]
  },
  {
   "cell_type": "code",
   "execution_count": 5,
   "id": "d6a36a88-7eb3-4233-b128-cc0b19a56daf",
   "metadata": {},
   "outputs": [
    {
     "data": {
      "text/plain": [
       "[['0', '4', '6'],\n",
       " ['0', '5', '6'],\n",
       " ['1', '4', '6'],\n",
       " ['1', '5', '6'],\n",
       " ['3', '4', '6'],\n",
       " ['3', '5', '6']]"
      ]
     },
     "execution_count": 5,
     "metadata": {},
     "output_type": "execute_result"
    }
   ],
   "source": [
    "def my_expand(x):\n",
    "    \"\"\"\n",
    "    Expands a list of lists. Simulates product expansion\n",
    "    \"\"\"\n",
    "    if len(x) >= 1:\n",
    "        a = x[0]\n",
    "        b = x[1:]\n",
    "        b_exp = my_expand(b)\n",
    "        c = [[y]+z for y in a for z in b_exp]        \n",
    "        return c\n",
    "    else:\n",
    "        return [x]\n",
    "\n",
    "my_expand([['0', '1', '3'], ['4','5'], ['6']])"
   ]
  },
  {
   "cell_type": "code",
   "execution_count": 6,
   "id": "b373e220-f995-4b03-8171-291bc53daa41",
   "metadata": {},
   "outputs": [],
   "source": [
    "### Convert OHE to SIM spec\n",
    "def ohe_to_sim_spec(ohe_spec_str):\n",
    "    a = ohe_spec_str.split('+')\n",
    "    b = [z.split('x') for z in a]\n",
    "    for i in range(len(b)):\n",
    "        for j in range(len(b[i])):\n",
    "            z = b[i][j]\n",
    "            if z!='.':\n",
    "                b[i][j]=['.',z]\n",
    "    \n",
    "    # Recursive expansion\n",
    "    c = []\n",
    "    for i, b_el in enumerate(b):\n",
    "        if isinstance(b_el, str):\n",
    "            c.append([b_el])\n",
    "        elif isinstance(b_el, list) and len(b_el)>=1:\n",
    "            c.extend(my_expand(b_el))\n",
    "\n",
    "    # Remove redundant factors of '.'\n",
    "    sim_spec_list = []\n",
    "    for x in c:\n",
    "        y = [z for z in x if z!='.']\n",
    "        if len(y)==0:\n",
    "            y = ['.']\n",
    "        sim_spec_list.append(y)\n",
    "    sim_spec_str = '+'.join(['x'.join(z) for z in sim_spec_list])\n",
    "    return sim_spec_str"
   ]
  },
  {
   "cell_type": "code",
   "execution_count": 7,
   "id": "f0edb873-fe39-463d-b5a8-d759a216f7c8",
   "metadata": {},
   "outputs": [],
   "source": [
    "### Define and test seq_to_x function\n",
    "x_triv = np.array([1])\n",
    "x_sim_A = np.array([1, 0, 0])\n",
    "x_sim_C = np.array([0, 1, 0])\n",
    "x_sim_G = np.array([0, 0, 1])\n",
    "x_sim_T = np.array([-1, -1, -1])\n",
    "\n",
    "char_to_sim_dict = {\n",
    "    'A':x_sim_A,\n",
    "    'C':x_sim_C,\n",
    "    'G':x_sim_G,\n",
    "    'T':x_sim_T\n",
    "}\n",
    "\n",
    "def seq_to_x_dist(seq, sim_spec_str):\n",
    "    '''\n",
    "    inputs: seq (DNA), ohe_spec_str\n",
    "    returns: x, a one-hot encoding\n",
    "    '''\n",
    "    L = len(seq)\n",
    "    x_components = []\n",
    "    \n",
    "    sim_spec_str_parts = sim_spec_str.split('+')\n",
    "    for part in sim_spec_str_parts:\n",
    "        \n",
    "        # Add in trivial component\n",
    "        if part=='.':\n",
    "            x_components.append(x_triv)\n",
    "        else:\n",
    "            positions = [int(p) for p in part.split('x')]\n",
    "            assert len(positions) > 0\n",
    "            x_irr = x_triv\n",
    "            while len(positions) > 0:\n",
    "                pos = positions.pop(-1)\n",
    "                c = seq[pos]\n",
    "                x_l = char_to_sim_dict[c]\n",
    "                x_irr = np.kron(x_irr, x_l)\n",
    "            x_components.append(x_irr)\n",
    "    \n",
    "    # Create x\n",
    "    x = np.concatenate(x_components)\n",
    "    return x"
   ]
  },
  {
   "cell_type": "code",
   "execution_count": 8,
   "id": "2d36ebc9-6785-41ac-ad1a-bb7f8a19caf5",
   "metadata": {},
   "outputs": [
    {
     "name": "stdout",
     "output_type": "stream",
     "text": [
      "seq: AAA\n",
      "ohe_spec_str:  0x1x2\n",
      "sim_spec_str:  .+2+1+1x2+0+0x2+0x1+0x1x2\n",
      "M:  64\n",
      "x_ohe:  [1 0 0 0 0 0 0 0 0 0 0 0 0 0 0 0 0 0 0 0 0 0 0 0 0 0 0 0 0 0 0 0 0 0 0 0 0\n",
      " 0 0 0 0 0 0 0 0 0 0 0 0 0 0 0 0 0 0 0 0 0 0 0 0 0 0 0]\n",
      "x_dist:  [1 1 0 0 1 0 0 1 0 0 0 0 0 0 0 0 1 0 0 1 0 0 0 0 0 0 0 0 1 0 0 0 0 0 0 0 0\n",
      " 1 0 0 0 0 0 0 0 0 0 0 0 0 0 0 0 0 0 0 0 0 0 0 0 0 0 0]\n",
      "B@T@x_ohe:  [1 1 0 0 1 0 0 1 0 0 0 0 0 0 0 0 1 0 0 1 0 0 0 0 0 0 0 0 1 0 0 0 0 0 0 0 0\n",
      " 1 0 0 0 0 0 0 0 0 0 0 0 0 0 0 0 0 0 0 0 0 0 0 0 0 0 0]\n",
      "T@x_ohe == x_dist: True\n"
     ]
    }
   ],
   "source": [
    "# Test code\n",
    "seq = 'AAA'\n",
    "ohe_spec_str = '0x1x2'\n",
    "sim_spec_str = ohe_to_sim_spec(ohe_spec_str)\n",
    "x_ohe = seq_to_x(seq, ohe_spec_str)\n",
    "x_dist = seq_to_x_dist(seq, sim_spec_str)\n",
    "T, T_inv = ohe_spec_to_T(ohe_spec_str)\n",
    "B, B_inv = ohe_spec_to_B(ohe_spec_str)\n",
    "print('seq:', seq)\n",
    "print('ohe_spec_str: ', ohe_spec_str)\n",
    "print('sim_spec_str: ', sim_spec_str)\n",
    "print('M: ', len(x_ohe))\n",
    "print('x_ohe: ', x_ohe)\n",
    "print('x_dist: ', x_dist)\n",
    "print('B@T@x_ohe: ', B@T@x_ohe)\n",
    "print('T@x_ohe == x_dist:', all(B@T@x_ohe == x_dist))"
   ]
  },
  {
   "cell_type": "code",
   "execution_count": 9,
   "id": "e9d2075e-1baf-4bea-b19e-be6b0b4471d0",
   "metadata": {},
   "outputs": [],
   "source": [
    "import itertools\n",
    "def make_all_seqs(L):\n",
    "    return [''.join(x) for x in itertools.product(['A','C','G','T'], repeat=L)]"
   ]
  },
  {
   "cell_type": "code",
   "execution_count": 10,
   "id": "c3bdc584-039d-4ba8-aceb-57ada0b53817",
   "metadata": {},
   "outputs": [
    {
     "name": "stdout",
     "output_type": "stream",
     "text": [
      "T@x_ohe == x_dist for 256/256 seqs\n"
     ]
    }
   ],
   "source": [
    "# Test T@x_ohe == x_dist for all possible sequences of a given length\n",
    "L = 4\n",
    "ohe_spec_str = '.+0+1+2+3+0x1+1x2+2x3'\n",
    "sim_spec_str = ohe_to_sim_spec(ohe_spec_str)\n",
    "T, T_inv = ohe_spec_to_T(ohe_spec_str)\n",
    "B, B_inv = ohe_spec_to_B(ohe_spec_str)\n",
    "all_seqs = make_all_seqs(L)\n",
    "num_matches = 0\n",
    "for seq in all_seqs:\n",
    "    x_ohe = seq_to_x(seq, ohe_spec_str)\n",
    "    x_dist = seq_to_x_dist(seq, sim_spec_str)\n",
    "    match = all(B@T@x_ohe == x_dist)\n",
    "    if match:\n",
    "        num_matches += 1\n",
    "    else:\n",
    "        print(f'mismatch for {seq}')\n",
    "    \n",
    "print(f'T@x_ohe == x_dist for {num_matches}/{len(all_seqs)} seqs')"
   ]
  },
  {
   "cell_type": "code",
   "execution_count": 11,
   "id": "eaf3a213-689d-40be-9868-9f8cf67ab91e",
   "metadata": {},
   "outputs": [
    {
     "data": {
      "text/plain": [
       "<matplotlib.image.AxesImage at 0x10ee85e10>"
      ]
     },
     "execution_count": 11,
     "metadata": {},
     "output_type": "execute_result"
    },
    {
     "data": {
      "image/png": "[encoded data removed]",
      "text/plain": [
       "<Figure size 480x480 with 1 Axes>"
      ]
     },
     "metadata": {},
     "output_type": "display_data"
    }
   ],
   "source": [
    "plt.matshow(((T_inv@B_inv)@(B@T)).todense())"
   ]
  },
  {
   "cell_type": "code",
   "execution_count": null,
   "id": "3ceee739-85e8-415c-abc5-4b4aa9df617b",
   "metadata": {},
   "outputs": [],
   "source": []
  }
 ],
 "metadata": {
  "kernelspec": {
   "display_name": "base",
   "language": "python",
   "name": "base"
  },
  "language_info": {
   "codemirror_mode": {
    "name": "ipython",
    "version": 3
   },
   "file_extension": ".py",
   "mimetype": "text/x-python",
   "name": "python",
   "nbconvert_exporter": "python",
   "pygments_lexer": "ipython3",
   "version": "3.11.5"
  }
 },
 "nbformat": 4,
 "nbformat_minor": 5
}
