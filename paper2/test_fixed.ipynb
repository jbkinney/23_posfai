{
 "cells": [
  {
   "cell_type": "code",
   "execution_count": 1,
   "id": "9f572643-4f02-44f6-a859-5bd3da6ee6dc",
   "metadata": {},
   "outputs": [],
   "source": [
    "# Standard imports\n",
    "import numpy as np\n",
    "import matplotlib.pyplot as plt\n",
    "\n",
    "# Import contents of pacakge\n",
    "import posfai2_fixed as my"
   ]
  },
  {
   "cell_type": "code",
   "execution_count": 2,
   "id": "dcf018a1-7a46-4605-b393-fb4877c30fd2",
   "metadata": {},
   "outputs": [
    {
     "name": "stdout",
     "output_type": "stream",
     "text": [
      "seq: TT\n",
      "alphabet: ACGT\n",
      "alpha: 4\n",
      "x_ohe.shape: (25, 1)\n",
      "M: 25\n",
      "T.shape: (25, 25)\n",
      "B.shape: (25, 25)\n",
      "A.shape: (25, 25)\n",
      "D.shape: (25, 25)\n",
      "gamma: 9\n",
      "x_test.shape: (25,)\n"
     ]
    }
   ],
   "source": [
    "# Specify sequence and ohe_spec_str\n",
    "alphabet = 'ACGT'\n",
    "alpha = len(alphabet)\n",
    "L = 2\n",
    "seq = 'TT'\n",
    "n_order = 2\n",
    "n_adj = 2\n",
    "L = len(seq)\n",
    "\n",
    "# Create spec string\n",
    "ohe_spec_str = my.get_ohe_spec_str(L, n_order=n_order, n_adj=n_adj)\n",
    "\n",
    "print(f'seq: {seq}')\n",
    "print(f'alphabet: {alphabet}')\n",
    "print(f'alpha: {alpha}')\n",
    "\n",
    "# Get one-hot encoding of x\n",
    "x_ohe = my.seq_to_x_ohe(seq, ohe_spec_str, alphabet=alphabet, fix=True).todense()\n",
    "print(f'x_ohe.shape: {x_ohe.shape}')\n",
    "\n",
    "M = len(x_ohe)\n",
    "print(f'M: {M}')\n",
    "\n",
    "# Get transformation matrix\n",
    "T, T_inv = my._ohe_spec_to_T(ohe_spec_str, alpha=alpha, compute_inv=False)\n",
    "print(f'T.shape: {T.shape}')\n",
    "\n",
    "# Get reordering matrix\n",
    "B, B_inv = my._ohe_spec_to_B(ohe_spec_str, alpha=alpha)\n",
    "print(f'B.shape: {B.shape}')\n",
    "\n",
    "# Get thinning matrix\n",
    "A, A_inv = my._get_thinning_matrix(ohe_spec_str, alpha=alpha, fix=False)\n",
    "print(f'A.shape: {A.shape}')\n",
    "\n",
    "# Get distilling matrix\n",
    "D, D_inv, gamma = my._get_distilling_matrix(ohe_spec_str, alpha=alpha, fix=False)\n",
    "print(f'D.shape: {D.shape}')\n",
    "print(f'gamma: {gamma}')\n",
    "\n",
    "# Get vector to test thinning matrix\n",
    "x_test = my.get_x_to_test_thinning_matrix(ohe_spec_str, alpha=alpha)\n",
    "print(f'x_test.shape: {x_test.shape}')"
   ]
  },
  {
   "cell_type": "code",
   "execution_count": 3,
   "id": "2caf3e20-073f-4ea7-98b3-7afd121ac481",
   "metadata": {},
   "outputs": [
    {
     "name": "stdout",
     "output_type": "stream",
     "text": [
      ".+.+0+.+1+.+1+0+0x1\n"
     ]
    },
    {
     "data": {
      "image/png": "[encoded data removed]",
      "text/plain": [
       "<Figure size 1000x700 with 7 Axes>"
      ]
     },
     "metadata": {},
     "output_type": "display_data"
    }
   ],
   "source": [
    "# Make figure\n",
    "fig, axs = plt.subplots(7,1,figsize=[10,7])\n",
    "\n",
    "# Get sim_spec\n",
    "sim_spec_str = my.ohe_to_sim_spec(ohe_spec_str)\n",
    "\n",
    "# Compute ohe vlines\n",
    "ohe_vlines = []\n",
    "parts = ohe_spec_str.split('+')\n",
    "offset = 0\n",
    "ohe_vlines.append(offset-.5)\n",
    "for part in parts:\n",
    "    if part=='.':\n",
    "        m=1\n",
    "    else:\n",
    "        num_poss = len(part.split('x'))\n",
    "        m=alpha**(num_poss)\n",
    "    offset += m\n",
    "    ohe_vlines.append(offset-.5)\n",
    "\n",
    "# Compute vline xs\n",
    "sim_vlines = []\n",
    "parts = sim_spec_str.split('+')\n",
    "offset = 0\n",
    "sim_vlines.append(offset-.5)\n",
    "for part in parts:\n",
    "    if part=='.':\n",
    "        m=1\n",
    "    else:\n",
    "        num_poss = len(part.split('x'))\n",
    "        m=(alpha-1)**(num_poss)\n",
    "    offset += m\n",
    "    sim_vlines.append(offset-.5)\n",
    "\n",
    "#####\n",
    "\n",
    "# Show x_ohe\n",
    "ax = axs[0]\n",
    "ax.matshow(np.mat(x_ohe).T, vmin=-1, vmax=1, cmap='jet')\n",
    "ax.set_yticks([])\n",
    "ax.set_title('x_ohe')\n",
    "ax.set_aspect('auto')\n",
    "ax.set_xticks(range(M))\n",
    "ax.set_xticklabels([])\n",
    "for x in ohe_vlines:\n",
    "    ax.axvline(x, color='w')\n",
    "\n",
    "# Show T@x_ohe\n",
    "ax = axs[1]\n",
    "ax.matshow(np.mat(B@T@x_ohe).T, vmin=-1, vmax=1, cmap='jet')\n",
    "ax.set_yticks([])\n",
    "ax.set_title('B@T@x_ohe')\n",
    "ax.set_aspect('auto')\n",
    "#ax.set_xticks(range(M))\n",
    "ax.set_xticklabels([])\n",
    "for x in sim_vlines:\n",
    "    ax.axvline(x, color='w')\n",
    "\n",
    "# Show x_test\n",
    "ax = axs[2]\n",
    "ax.matshow(np.mat(x_test), vmin=0, vmax=1, cmap='jet')\n",
    "ax.set_yticks([])\n",
    "ax.set_title('x_test')\n",
    "ax.set_aspect('auto')\n",
    "#ax.set_xticks(range(M))\n",
    "ax.set_xticklabels([])\n",
    "for x in sim_vlines:\n",
    "    ax.axvline(x, color='w')\n",
    "\n",
    "# Show A@T@x_ohe\n",
    "ax = axs[3]\n",
    "ax.matshow(np.abs(np.mat(A@B@T@x_ohe)).T, vmin=-1, vmax=1, cmap='jet')\n",
    "ax.set_yticks([])\n",
    "ax.set_title('A@B@T@x_ohe')\n",
    "ax.set_aspect('auto')\n",
    "#ax.set_xticks(range(M))\n",
    "ax.set_xticklabels([])\n",
    "for x in sim_vlines:\n",
    "    ax.axvline(x, color='w')\n",
    "\n",
    "# Show A@x_test\n",
    "ax = axs[4]\n",
    "ax.matshow(np.mat(A@x_test), vmin=0, vmax=1, cmap='jet')\n",
    "ax.set_yticks([])\n",
    "ax.set_title('A@x_test')\n",
    "ax.set_aspect('auto')\n",
    "#ax.set_xticks(range(M))\n",
    "ax.set_xticklabels([])\n",
    "for x in sim_vlines:\n",
    "    ax.axvline(x, color='w')\n",
    "\n",
    "# Show D@A@T@x_ohe\n",
    "ax = axs[5]\n",
    "ax.matshow(np.abs(np.mat(D@A@B@T@x_ohe)).T, vmin=-1, vmax=1, cmap='jet')\n",
    "ax.set_yticks([])\n",
    "ax.set_title('D@A@B@T@x_ohe')\n",
    "ax.set_aspect('auto')\n",
    "#ax.set_xticks(range(M))\n",
    "ax.set_xticklabels([])\n",
    "\n",
    "# Show A@x_test\n",
    "ax = axs[6]\n",
    "ax.matshow(np.mat(D@A@x_test), vmin=0, vmax=1, cmap='jet')\n",
    "ax.set_yticks([])\n",
    "ax.set_title('D@A@x_test')\n",
    "ax.set_aspect('auto')\n",
    "#ax.set_xticks(range(M))\n",
    "ax.set_xticklabels([])\n",
    "\n",
    "plt.tight_layout()\n",
    "print(sim_spec_str)\n",
    "\n"
   ]
  },
  {
   "cell_type": "code",
   "execution_count": 4,
   "id": "87d60f42-1023-4fa2-a007-b72dee804e36",
   "metadata": {},
   "outputs": [
    {
     "name": "stdout",
     "output_type": "stream",
     "text": [
      "B@T@x_ohe == x_dist for 100/100 seqs\n"
     ]
    },
    {
     "ename": "TypeError",
     "evalue": "unsupported operand type(s) for *: 'int' and 'NoneType'",
     "output_type": "error",
     "traceback": [
      "\u001b[0;31m---------------------------------------------------------------------------\u001b[0m",
      "\u001b[0;31mTypeError\u001b[0m                                 Traceback (most recent call last)",
      "Cell \u001b[0;32mIn[4], line 19\u001b[0m\n\u001b[1;32m     17\u001b[0m \u001b[38;5;66;03m# Test that matrices invert properly\u001b[39;00m\n\u001b[1;32m     18\u001b[0m C \u001b[38;5;241m=\u001b[39m A\u001b[38;5;129m@B\u001b[39m\u001b[38;5;129m@T\u001b[39m\n\u001b[0;32m---> 19\u001b[0m C_inv \u001b[38;5;241m=\u001b[39m T_inv\u001b[38;5;129m@B_inv\u001b[39m\u001b[38;5;129m@A_inv\u001b[39m\n\u001b[1;32m     20\u001b[0m \u001b[38;5;28mprint\u001b[39m(\u001b[38;5;124m'\u001b[39m\u001b[38;5;124mC@C_inv == I:\u001b[39m\u001b[38;5;124m'\u001b[39m, np\u001b[38;5;241m.\u001b[39mallclose((C\u001b[38;5;129m@C_inv\u001b[39m)\u001b[38;5;241m.\u001b[39mtodense(), np\u001b[38;5;241m.\u001b[39meye(M)))\n\u001b[1;32m     22\u001b[0m \u001b[38;5;66;03m# Check gauge basis\u001b[39;00m\n",
      "File \u001b[0;32m~/anaconda3/lib/python3.11/site-packages/scipy/sparse/_base.py:630\u001b[0m, in \u001b[0;36m_spbase.__rmatmul__\u001b[0;34m(self, other)\u001b[0m\n\u001b[1;32m    627\u001b[0m \u001b[38;5;28;01mif\u001b[39;00m isscalarlike(other):\n\u001b[1;32m    628\u001b[0m     \u001b[38;5;28;01mraise\u001b[39;00m \u001b[38;5;167;01mValueError\u001b[39;00m(\u001b[38;5;124m\"\u001b[39m\u001b[38;5;124mScalar operands are not allowed, \u001b[39m\u001b[38;5;124m\"\u001b[39m\n\u001b[1;32m    629\u001b[0m                      \u001b[38;5;124m\"\u001b[39m\u001b[38;5;124muse \u001b[39m\u001b[38;5;124m'\u001b[39m\u001b[38;5;124m*\u001b[39m\u001b[38;5;124m'\u001b[39m\u001b[38;5;124m instead\u001b[39m\u001b[38;5;124m\"\u001b[39m)\n\u001b[0;32m--> 630\u001b[0m \u001b[38;5;28;01mreturn\u001b[39;00m \u001b[38;5;28mself\u001b[39m\u001b[38;5;241m.\u001b[39m_rmul_dispatch(other)\n",
      "File \u001b[0;32m~/anaconda3/lib/python3.11/site-packages/scipy/sparse/_base.py:608\u001b[0m, in \u001b[0;36m_spbase._rmul_dispatch\u001b[0;34m(self, other)\u001b[0m\n\u001b[1;32m    606\u001b[0m \u001b[38;5;28;01mexcept\u001b[39;00m \u001b[38;5;167;01mAttributeError\u001b[39;00m:\n\u001b[1;32m    607\u001b[0m     tr \u001b[38;5;241m=\u001b[39m np\u001b[38;5;241m.\u001b[39masarray(other)\u001b[38;5;241m.\u001b[39mtranspose()\n\u001b[0;32m--> 608\u001b[0m ret \u001b[38;5;241m=\u001b[39m \u001b[38;5;28mself\u001b[39m\u001b[38;5;241m.\u001b[39mtranspose()\u001b[38;5;241m.\u001b[39m_mul_dispatch(tr)\n\u001b[1;32m    609\u001b[0m \u001b[38;5;28;01mif\u001b[39;00m ret \u001b[38;5;129;01mis\u001b[39;00m \u001b[38;5;28mNotImplemented\u001b[39m:\n\u001b[1;32m    610\u001b[0m     \u001b[38;5;28;01mreturn\u001b[39;00m \u001b[38;5;28mNotImplemented\u001b[39m\n",
      "File \u001b[0;32m~/anaconda3/lib/python3.11/site-packages/scipy/sparse/_base.py:530\u001b[0m, in \u001b[0;36m_spbase._mul_dispatch\u001b[0;34m(self, other)\u001b[0m\n\u001b[1;32m    526\u001b[0m         \u001b[38;5;28;01mreturn\u001b[39;00m \u001b[38;5;28mself\u001b[39m\u001b[38;5;241m.\u001b[39m_mul_multivector(other)\n\u001b[1;32m    528\u001b[0m \u001b[38;5;28;01mif\u001b[39;00m isscalarlike(other):\n\u001b[1;32m    529\u001b[0m     \u001b[38;5;66;03m# scalar value\u001b[39;00m\n\u001b[0;32m--> 530\u001b[0m     \u001b[38;5;28;01mreturn\u001b[39;00m \u001b[38;5;28mself\u001b[39m\u001b[38;5;241m.\u001b[39m_mul_scalar(other)\n\u001b[1;32m    532\u001b[0m \u001b[38;5;28;01mif\u001b[39;00m issparse(other):\n\u001b[1;32m    533\u001b[0m     \u001b[38;5;28;01mif\u001b[39;00m \u001b[38;5;28mself\u001b[39m\u001b[38;5;241m.\u001b[39mshape[\u001b[38;5;241m1\u001b[39m] \u001b[38;5;241m!=\u001b[39m other\u001b[38;5;241m.\u001b[39mshape[\u001b[38;5;241m0\u001b[39m]:\n",
      "File \u001b[0;32m~/anaconda3/lib/python3.11/site-packages/scipy/sparse/_data.py:139\u001b[0m, in \u001b[0;36m_data_matrix._mul_scalar\u001b[0;34m(self, other)\u001b[0m\n\u001b[1;32m    138\u001b[0m \u001b[38;5;28;01mdef\u001b[39;00m \u001b[38;5;21m_mul_scalar\u001b[39m(\u001b[38;5;28mself\u001b[39m, other):\n\u001b[0;32m--> 139\u001b[0m     \u001b[38;5;28;01mreturn\u001b[39;00m \u001b[38;5;28mself\u001b[39m\u001b[38;5;241m.\u001b[39m_with_data(\u001b[38;5;28mself\u001b[39m\u001b[38;5;241m.\u001b[39mdata \u001b[38;5;241m*\u001b[39m other)\n",
      "\u001b[0;31mTypeError\u001b[0m: unsupported operand type(s) for *: 'int' and 'NoneType'"
     ]
    }
   ],
   "source": [
    "######\n",
    "\n",
    "# Test A@B@T@x_ohe == x_dist for all possible sequences\n",
    "all_seqs = my.make_random_seqs(L, num_seqs=100)\n",
    "num_matches = 0\n",
    "for seq in all_seqs:\n",
    "    x_ohe = my.seq_to_x_ohe(seq, ohe_spec_str, alphabet=alphabet, fix=True).todense()\n",
    "    desired_BTx = np.array(my.seq_to_desired_BTx(seq, ohe_spec_str, alphabet=alphabet, fix=True), dtype=np.int64).reshape((M,1))\n",
    "    match = np.all(B@T@x_ohe == desired_BTx)\n",
    "    if match:\n",
    "        num_matches += 1\n",
    "    else:\n",
    "        print(f'mismatch for {seq}: B@T@x_ohe=\\n{(B@T@x_ohe).T};\\ndesired_BTx=\\n{desired_BTx.T}')\n",
    "        break;\n",
    "print(f'B@T@x_ohe == x_dist for {num_matches}/{len(all_seqs)} seqs')\n",
    "\n",
    "# Test that matrices invert properly\n",
    "C = A@B@T\n",
    "C_inv = T_inv@B_inv@A_inv\n",
    "print('C@C_inv == I:', np.allclose((C@C_inv).todense(), np.eye(M)))\n",
    "\n",
    "# Check gauge basis\n",
    "E = D@A@B@T\n",
    "gauge_basis = E[(M-gamma):,:].T\n",
    "all_seqs = my.make_all_seqs(L)\n",
    "x_ohes = np.hstack([my.seq_to_x_ohe(seq, ohe_spec_str, alphabet=alphabet, fix=True).todense() for seq in all_seqs])\n",
    "np.allclose((gauge_basis.T)@x_ohes, 0)\n",
    "print('Unique elements of gauge basis', np.unique(gauge_basis.data))"
   ]
  },
  {
   "cell_type": "code",
   "execution_count": null,
   "id": "cc32211d-1260-498d-a8f7-99036e9d3729",
   "metadata": {},
   "outputs": [],
   "source": [
    "# Test A@B@T@x_ohe == x_dist for all possible sequences \n",
    "seqs = my.make_random_seqs(L, num_seqs=1000)\n",
    "num_matches = 0\n",
    "for seq in seqs:\n",
    "    x_ohe = my.seq_to_x_ohe(seq, ohe_spec_str, alphabet=alphabet).todense()\n",
    "    desired_BTx = np.array(my.seq_to_desired_BTx(seq, ohe_spec_str, alphabet=alphabet, fix=True), dtype=np.int64).reshape((M,1))\n",
    "    match = np.all(B@T@x_ohe == desired_BTx)\n",
    "    \n",
    "    if match:\n",
    "        num_matches += 1\n",
    "    else:\n",
    "        pass;\n",
    "        #print(f'mismatch for {seq}')\n",
    "print(f'B@T@x_ohe == x_dist for {num_matches}/{len(seqs)} seqs')\n",
    "\n",
    "# Test that matrices invert properly\n",
    "C = A@B@T\n",
    "C_inv = T_inv@B_inv@A_inv\n",
    "print('C@C_inv == I:', np.allclose((C@C_inv).todense(), np.eye(M)))\n",
    "\n",
    "# Check gauge basis\n",
    "E = D@A@B@T\n",
    "gauge_basis = E[-gamma:,:].T\n",
    "seqs = my.make_random_seqs(L, num_seqs=100)\n",
    "x_ohes = np.hstack([my.seq_to_x_ohe(seq, ohe_spec_str, alphabet=alphabet).todense() for seq in seqs])\n",
    "print(f'All {gamma:,d} gauge vectors are orthogonal to embeddings of all {x_ohes.shape[1]:,d} random seqs:', np.allclose((gauge_basis.T)@x_ohes, 0))\n",
    "print('Unique elements of gauge basis', np.unique(gauge_basis.data))"
   ]
  },
  {
   "cell_type": "code",
   "execution_count": null,
   "id": "db908b8b-1d42-45bf-92fb-2fb27027bf0c",
   "metadata": {},
   "outputs": [],
   "source": [
    "ohe_spec_str"
   ]
  },
  {
   "cell_type": "code",
   "execution_count": null,
   "id": "e37f67a9-15e8-440c-8a92-4975bdf6eacf",
   "metadata": {},
   "outputs": [],
   "source": []
  },
  {
   "cell_type": "code",
   "execution_count": null,
   "id": "4b8d646d-6730-4a45-ba08-9fe9f2ee4760",
   "metadata": {},
   "outputs": [],
   "source": []
  }
 ],
 "metadata": {
  "kernelspec": {
   "display_name": "base",
   "language": "python",
   "name": "base"
  },
  "language_info": {
   "codemirror_mode": {
    "name": "ipython",
    "version": 3
   },
   "file_extension": ".py",
   "mimetype": "text/x-python",
   "name": "python",
   "nbconvert_exporter": "python",
   "pygments_lexer": "ipython3",
   "version": "3.11.5"
  },
  "varInspector": {
   "cols": {
    "lenName": 16,
    "lenType": 16,
    "lenVar": 40
   },
   "kernels_config": {
    "python": {
     "delete_cmd_postfix": "",
     "delete_cmd_prefix": "del ",
     "library": "var_list.py",
     "varRefreshCmd": "print(var_dic_list())"
    },
    "r": {
     "delete_cmd_postfix": ") ",
     "delete_cmd_prefix": "rm(",
     "library": "var_list.r",
     "varRefreshCmd": "cat(var_dic_list()) "
    }
   },
   "types_to_exclude": [
    "module",
    "function",
    "builtin_function_or_method",
    "instance",
    "_Feature"
   ],
   "window_display": false
  }
 },
 "nbformat": 4,
 "nbformat_minor": 5
}
